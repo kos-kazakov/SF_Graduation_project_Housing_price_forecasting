{
 "cells": [
  {
   "cell_type": "markdown",
   "metadata": {},
   "source": [
    "# Skillfactory. Курс \"Специализация Data Science\"\n",
    "## Дипломный проект. Учебный кейс «Модель прогнозирования стоимости жилья для агентства недвижимости»\n",
    "\n",
    "**Описание задачи:**\n",
    "\n",
    "Агентство недвижимости столкнулось с проблемой — риелторы тратят слишком много времени на сортировку объявлений и поиск выгодных предложений. Поэтому скорость их реакции и качество анализа не дотягивают до уровня конкурентов. Это сказывается на финансовых показателях агентства. Задача - разработать модель машинного обучения, которая поможет обрабатывать объявления и увеличит число сделок и прибыль агентства.\n",
    "\n",
    "**Файлы для работы:**\n",
    "\n",
    "- data.csv - датасет с данными об объектах недвижимости\n",
    "\n",
    "**Этапы проекта:**\n",
    "\n",
    "- Провести разведывательный анализ и очистку исходных данных. Необходимо отыскать закономерности, расшифровать сокращения, найти синонимы в данных, обработать пропуски и удалить выбросы.\n",
    "-  Выделить наиболее значимые факторы, влияющие на стоимость недвижимости.\n",
    "-  Построить модель для прогнозирования стоимости недвижимости.\n",
    "-  Разработать небольшой веб-сервис, на вход которому поступают данные о некоторой выставленной на продажу недвижимости, а сервис прогнозирует его стоимость.\n",
    "\n",
    "**Описание признаков в исходном наборе данных:**\n",
    "- 'status' — статус продажи\n",
    "- 'private pool' и 'PrivatePool' — наличие собственного бассейна\n",
    "- 'propertyType' — тип объекта недвижимости\n",
    "- 'street' — адрес объекта\n",
    "- 'baths' — количество ванных комнат\n",
    "- 'homeFacts' — сведения о строительстве объекта (содержит несколько типов сведений, влияющих на оценку объекта)\n",
    "- 'fireplace' — наличие камина\n",
    "- 'city' — город\n",
    "- 'schools' — сведения о школах в районе\n",
    "- 'sqft' — площадь в футах\n",
    "- 'zipcode' — почтовый индекс\n",
    "- 'beds' — количество спален\n",
    "- 'state' — штат\n",
    "- 'stories' — количество этажей\n",
    "- 'mls-id' и 'MlsId' — идентификатор MLS (Multiple Listing Service, система мультилистинга)\n",
    "_____________________________\n",
    "- **'target'** — цена объекта недвижимости (целевой признак, который необходимо спрогнозировать)\n"
   ]
  },
  {
   "cell_type": "code",
   "execution_count": 1,
   "metadata": {},
   "outputs": [],
   "source": [
    "import numpy as np \n",
    "import pandas as pd\n",
    "\n",
    "# библиотеки для визуализации\n",
    "import matplotlib.pyplot as plt\n",
    "import seaborn as sns \n",
    "\n",
    "# модуль для работы с регулярными выражениями\n",
    "import re\n",
    "\n",
    "# библиотека отчетов для EDA\n",
    "import sweetviz as sv"
   ]
  },
  {
   "cell_type": "markdown",
   "metadata": {},
   "source": [
    "### 1. Исследование структуры, обработка и очистка данных"
   ]
  },
  {
   "cell_type": "code",
   "execution_count": 2,
   "metadata": {},
   "outputs": [
    {
     "data": {
      "text/html": [
       "<div>\n",
       "<style scoped>\n",
       "    .dataframe tbody tr th:only-of-type {\n",
       "        vertical-align: middle;\n",
       "    }\n",
       "\n",
       "    .dataframe tbody tr th {\n",
       "        vertical-align: top;\n",
       "    }\n",
       "\n",
       "    .dataframe thead th {\n",
       "        text-align: right;\n",
       "    }\n",
       "</style>\n",
       "<table border=\"1\" class=\"dataframe\">\n",
       "  <thead>\n",
       "    <tr style=\"text-align: right;\">\n",
       "      <th></th>\n",
       "      <th>status</th>\n",
       "      <th>private pool</th>\n",
       "      <th>propertyType</th>\n",
       "      <th>street</th>\n",
       "      <th>baths</th>\n",
       "      <th>homeFacts</th>\n",
       "      <th>fireplace</th>\n",
       "      <th>city</th>\n",
       "      <th>schools</th>\n",
       "      <th>sqft</th>\n",
       "      <th>zipcode</th>\n",
       "      <th>beds</th>\n",
       "      <th>state</th>\n",
       "      <th>stories</th>\n",
       "      <th>mls-id</th>\n",
       "      <th>PrivatePool</th>\n",
       "      <th>MlsId</th>\n",
       "      <th>target</th>\n",
       "    </tr>\n",
       "  </thead>\n",
       "  <tbody>\n",
       "    <tr>\n",
       "      <th>0</th>\n",
       "      <td>Active</td>\n",
       "      <td>NaN</td>\n",
       "      <td>Single Family Home</td>\n",
       "      <td>240 Heather Ln</td>\n",
       "      <td>3.5</td>\n",
       "      <td>{'atAGlanceFacts': [{'factValue': '2019', 'fac...</td>\n",
       "      <td>Gas Logs</td>\n",
       "      <td>Southern Pines</td>\n",
       "      <td>[{'rating': ['4', '4', '7', 'NR', '4', '7', 'N...</td>\n",
       "      <td>2900</td>\n",
       "      <td>28387</td>\n",
       "      <td>4</td>\n",
       "      <td>NC</td>\n",
       "      <td>NaN</td>\n",
       "      <td>NaN</td>\n",
       "      <td>NaN</td>\n",
       "      <td>611019</td>\n",
       "      <td>$418,000</td>\n",
       "    </tr>\n",
       "    <tr>\n",
       "      <th>1</th>\n",
       "      <td>for sale</td>\n",
       "      <td>NaN</td>\n",
       "      <td>single-family home</td>\n",
       "      <td>12911 E Heroy Ave</td>\n",
       "      <td>3 Baths</td>\n",
       "      <td>{'atAGlanceFacts': [{'factValue': '2019', 'fac...</td>\n",
       "      <td>NaN</td>\n",
       "      <td>Spokane Valley</td>\n",
       "      <td>[{'rating': ['4/10', 'None/10', '4/10'], 'data...</td>\n",
       "      <td>1,947 sqft</td>\n",
       "      <td>99216</td>\n",
       "      <td>3 Beds</td>\n",
       "      <td>WA</td>\n",
       "      <td>2.0</td>\n",
       "      <td>NaN</td>\n",
       "      <td>NaN</td>\n",
       "      <td>201916904</td>\n",
       "      <td>$310,000</td>\n",
       "    </tr>\n",
       "    <tr>\n",
       "      <th>2</th>\n",
       "      <td>for sale</td>\n",
       "      <td>NaN</td>\n",
       "      <td>single-family home</td>\n",
       "      <td>2005 Westridge Rd</td>\n",
       "      <td>2 Baths</td>\n",
       "      <td>{'atAGlanceFacts': [{'factValue': '1961', 'fac...</td>\n",
       "      <td>yes</td>\n",
       "      <td>Los Angeles</td>\n",
       "      <td>[{'rating': ['8/10', '4/10', '8/10'], 'data': ...</td>\n",
       "      <td>3,000 sqft</td>\n",
       "      <td>90049</td>\n",
       "      <td>3 Beds</td>\n",
       "      <td>CA</td>\n",
       "      <td>1.0</td>\n",
       "      <td>NaN</td>\n",
       "      <td>yes</td>\n",
       "      <td>FR19221027</td>\n",
       "      <td>$2,895,000</td>\n",
       "    </tr>\n",
       "    <tr>\n",
       "      <th>3</th>\n",
       "      <td>for sale</td>\n",
       "      <td>NaN</td>\n",
       "      <td>single-family home</td>\n",
       "      <td>4311 Livingston Ave</td>\n",
       "      <td>8 Baths</td>\n",
       "      <td>{'atAGlanceFacts': [{'factValue': '2006', 'fac...</td>\n",
       "      <td>yes</td>\n",
       "      <td>Dallas</td>\n",
       "      <td>[{'rating': ['9/10', '9/10', '10/10', '9/10'],...</td>\n",
       "      <td>6,457 sqft</td>\n",
       "      <td>75205</td>\n",
       "      <td>5 Beds</td>\n",
       "      <td>TX</td>\n",
       "      <td>3.0</td>\n",
       "      <td>NaN</td>\n",
       "      <td>NaN</td>\n",
       "      <td>14191809</td>\n",
       "      <td>$2,395,000</td>\n",
       "    </tr>\n",
       "    <tr>\n",
       "      <th>4</th>\n",
       "      <td>for sale</td>\n",
       "      <td>NaN</td>\n",
       "      <td>lot/land</td>\n",
       "      <td>1524 Kiscoe St</td>\n",
       "      <td>NaN</td>\n",
       "      <td>{'atAGlanceFacts': [{'factValue': '', 'factLab...</td>\n",
       "      <td>NaN</td>\n",
       "      <td>Palm Bay</td>\n",
       "      <td>[{'rating': ['4/10', '5/10', '5/10'], 'data': ...</td>\n",
       "      <td>NaN</td>\n",
       "      <td>32908</td>\n",
       "      <td>NaN</td>\n",
       "      <td>FL</td>\n",
       "      <td>NaN</td>\n",
       "      <td>NaN</td>\n",
       "      <td>NaN</td>\n",
       "      <td>861745</td>\n",
       "      <td>$5,000</td>\n",
       "    </tr>\n",
       "  </tbody>\n",
       "</table>\n",
       "</div>"
      ],
      "text/plain": [
       "     status private pool        propertyType               street    baths  \\\n",
       "0    Active          NaN  Single Family Home       240 Heather Ln      3.5   \n",
       "1  for sale          NaN  single-family home    12911 E Heroy Ave  3 Baths   \n",
       "2  for sale          NaN  single-family home    2005 Westridge Rd  2 Baths   \n",
       "3  for sale          NaN  single-family home  4311 Livingston Ave  8 Baths   \n",
       "4  for sale          NaN            lot/land       1524 Kiscoe St      NaN   \n",
       "\n",
       "                                           homeFacts fireplace  \\\n",
       "0  {'atAGlanceFacts': [{'factValue': '2019', 'fac...  Gas Logs   \n",
       "1  {'atAGlanceFacts': [{'factValue': '2019', 'fac...       NaN   \n",
       "2  {'atAGlanceFacts': [{'factValue': '1961', 'fac...       yes   \n",
       "3  {'atAGlanceFacts': [{'factValue': '2006', 'fac...       yes   \n",
       "4  {'atAGlanceFacts': [{'factValue': '', 'factLab...       NaN   \n",
       "\n",
       "             city                                            schools  \\\n",
       "0  Southern Pines  [{'rating': ['4', '4', '7', 'NR', '4', '7', 'N...   \n",
       "1  Spokane Valley  [{'rating': ['4/10', 'None/10', '4/10'], 'data...   \n",
       "2     Los Angeles  [{'rating': ['8/10', '4/10', '8/10'], 'data': ...   \n",
       "3          Dallas  [{'rating': ['9/10', '9/10', '10/10', '9/10'],...   \n",
       "4        Palm Bay  [{'rating': ['4/10', '5/10', '5/10'], 'data': ...   \n",
       "\n",
       "         sqft zipcode    beds state stories mls-id PrivatePool       MlsId  \\\n",
       "0        2900   28387       4    NC     NaN    NaN         NaN      611019   \n",
       "1  1,947 sqft   99216  3 Beds    WA     2.0    NaN         NaN   201916904   \n",
       "2  3,000 sqft   90049  3 Beds    CA     1.0    NaN         yes  FR19221027   \n",
       "3  6,457 sqft   75205  5 Beds    TX     3.0    NaN         NaN    14191809   \n",
       "4         NaN   32908     NaN    FL     NaN    NaN         NaN      861745   \n",
       "\n",
       "       target  \n",
       "0    $418,000  \n",
       "1    $310,000  \n",
       "2  $2,895,000  \n",
       "3  $2,395,000  \n",
       "4      $5,000  "
      ]
     },
     "execution_count": 2,
     "metadata": {},
     "output_type": "execute_result"
    }
   ],
   "source": [
    "df = pd.read_csv('data/data.csv')\n",
    "df.head()"
   ]
  },
  {
   "cell_type": "code",
   "execution_count": 3,
   "metadata": {},
   "outputs": [
    {
     "name": "stdout",
     "output_type": "stream",
     "text": [
      "<class 'pandas.core.frame.DataFrame'>\n",
      "RangeIndex: 377185 entries, 0 to 377184\n",
      "Data columns (total 18 columns):\n",
      " #   Column        Non-Null Count   Dtype \n",
      "---  ------        --------------   ----- \n",
      " 0   status        337267 non-null  object\n",
      " 1   private pool  4181 non-null    object\n",
      " 2   propertyType  342452 non-null  object\n",
      " 3   street        377183 non-null  object\n",
      " 4   baths         270847 non-null  object\n",
      " 5   homeFacts     377185 non-null  object\n",
      " 6   fireplace     103115 non-null  object\n",
      " 7   city          377151 non-null  object\n",
      " 8   schools       377185 non-null  object\n",
      " 9   sqft          336608 non-null  object\n",
      " 10  zipcode       377185 non-null  object\n",
      " 11  beds          285903 non-null  object\n",
      " 12  state         377185 non-null  object\n",
      " 13  stories       226470 non-null  object\n",
      " 14  mls-id        24942 non-null   object\n",
      " 15  PrivatePool   40311 non-null   object\n",
      " 16  MlsId         310305 non-null  object\n",
      " 17  target        374704 non-null  object\n",
      "dtypes: object(18)\n",
      "memory usage: 51.8+ MB\n"
     ]
    },
    {
     "data": {
      "text/plain": [
       "None"
      ]
     },
     "metadata": {},
     "output_type": "display_data"
    },
    {
     "data": {
      "text/html": [
       "<div>\n",
       "<style scoped>\n",
       "    .dataframe tbody tr th:only-of-type {\n",
       "        vertical-align: middle;\n",
       "    }\n",
       "\n",
       "    .dataframe tbody tr th {\n",
       "        vertical-align: top;\n",
       "    }\n",
       "\n",
       "    .dataframe thead th {\n",
       "        text-align: right;\n",
       "    }\n",
       "</style>\n",
       "<table border=\"1\" class=\"dataframe\">\n",
       "  <thead>\n",
       "    <tr style=\"text-align: right;\">\n",
       "      <th></th>\n",
       "      <th>status</th>\n",
       "      <th>private pool</th>\n",
       "      <th>propertyType</th>\n",
       "      <th>street</th>\n",
       "      <th>baths</th>\n",
       "      <th>homeFacts</th>\n",
       "      <th>fireplace</th>\n",
       "      <th>city</th>\n",
       "      <th>schools</th>\n",
       "      <th>sqft</th>\n",
       "      <th>zipcode</th>\n",
       "      <th>beds</th>\n",
       "      <th>state</th>\n",
       "      <th>stories</th>\n",
       "      <th>mls-id</th>\n",
       "      <th>PrivatePool</th>\n",
       "      <th>MlsId</th>\n",
       "      <th>target</th>\n",
       "    </tr>\n",
       "  </thead>\n",
       "  <tbody>\n",
       "    <tr>\n",
       "      <th>count</th>\n",
       "      <td>337267</td>\n",
       "      <td>4181</td>\n",
       "      <td>342452</td>\n",
       "      <td>377183</td>\n",
       "      <td>270847</td>\n",
       "      <td>377185</td>\n",
       "      <td>103115</td>\n",
       "      <td>377151</td>\n",
       "      <td>377185</td>\n",
       "      <td>336608</td>\n",
       "      <td>377185</td>\n",
       "      <td>285903</td>\n",
       "      <td>377185</td>\n",
       "      <td>226470</td>\n",
       "      <td>24942</td>\n",
       "      <td>40311</td>\n",
       "      <td>310305</td>\n",
       "      <td>374704</td>\n",
       "    </tr>\n",
       "    <tr>\n",
       "      <th>unique</th>\n",
       "      <td>159</td>\n",
       "      <td>1</td>\n",
       "      <td>1280</td>\n",
       "      <td>337076</td>\n",
       "      <td>229</td>\n",
       "      <td>321009</td>\n",
       "      <td>1653</td>\n",
       "      <td>2026</td>\n",
       "      <td>297365</td>\n",
       "      <td>25405</td>\n",
       "      <td>4549</td>\n",
       "      <td>1184</td>\n",
       "      <td>39</td>\n",
       "      <td>348</td>\n",
       "      <td>24907</td>\n",
       "      <td>2</td>\n",
       "      <td>232944</td>\n",
       "      <td>43939</td>\n",
       "    </tr>\n",
       "    <tr>\n",
       "      <th>top</th>\n",
       "      <td>for sale</td>\n",
       "      <td>Yes</td>\n",
       "      <td>single-family home</td>\n",
       "      <td>Address Not Disclosed</td>\n",
       "      <td>2 Baths</td>\n",
       "      <td>{'atAGlanceFacts': [{'factValue': '', 'factLab...</td>\n",
       "      <td>yes</td>\n",
       "      <td>Houston</td>\n",
       "      <td>[{'rating': [], 'data': {'Distance': [], 'Grad...</td>\n",
       "      <td>0</td>\n",
       "      <td>32137</td>\n",
       "      <td>3 Beds</td>\n",
       "      <td>FL</td>\n",
       "      <td>1.0</td>\n",
       "      <td>No MLS#</td>\n",
       "      <td>yes</td>\n",
       "      <td>NO MLS</td>\n",
       "      <td>$225,000</td>\n",
       "    </tr>\n",
       "    <tr>\n",
       "      <th>freq</th>\n",
       "      <td>156104</td>\n",
       "      <td>4181</td>\n",
       "      <td>92206</td>\n",
       "      <td>672</td>\n",
       "      <td>52466</td>\n",
       "      <td>7174</td>\n",
       "      <td>50356</td>\n",
       "      <td>24442</td>\n",
       "      <td>4204</td>\n",
       "      <td>11854</td>\n",
       "      <td>2141</td>\n",
       "      <td>53459</td>\n",
       "      <td>115449</td>\n",
       "      <td>67454</td>\n",
       "      <td>3</td>\n",
       "      <td>28793</td>\n",
       "      <td>24</td>\n",
       "      <td>1462</td>\n",
       "    </tr>\n",
       "  </tbody>\n",
       "</table>\n",
       "</div>"
      ],
      "text/plain": [
       "          status private pool        propertyType                 street  \\\n",
       "count     337267         4181              342452                 377183   \n",
       "unique       159            1                1280                 337076   \n",
       "top     for sale          Yes  single-family home  Address Not Disclosed   \n",
       "freq      156104         4181               92206                    672   \n",
       "\n",
       "          baths                                          homeFacts fireplace  \\\n",
       "count    270847                                             377185    103115   \n",
       "unique      229                                             321009      1653   \n",
       "top     2 Baths  {'atAGlanceFacts': [{'factValue': '', 'factLab...       yes   \n",
       "freq      52466                                               7174     50356   \n",
       "\n",
       "           city                                            schools    sqft  \\\n",
       "count    377151                                             377185  336608   \n",
       "unique     2026                                             297365   25405   \n",
       "top     Houston  [{'rating': [], 'data': {'Distance': [], 'Grad...       0   \n",
       "freq      24442                                               4204   11854   \n",
       "\n",
       "       zipcode    beds   state stories   mls-id PrivatePool   MlsId    target  \n",
       "count   377185  285903  377185  226470    24942       40311  310305    374704  \n",
       "unique    4549    1184      39     348    24907           2  232944     43939  \n",
       "top      32137  3 Beds      FL     1.0  No MLS#         yes  NO MLS  $225,000  \n",
       "freq      2141   53459  115449   67454        3       28793      24      1462  "
      ]
     },
     "metadata": {},
     "output_type": "display_data"
    }
   ],
   "source": [
    "display(df.info())\n",
    "display(df.describe())"
   ]
  },
  {
   "cell_type": "code",
   "execution_count": 4,
   "metadata": {},
   "outputs": [
    {
     "data": {
      "image/png": "[encoded data removed]",
      "text/plain": [
       "<Figure size 1200x500 with 2 Axes>"
      ]
     },
     "metadata": {},
     "output_type": "display_data"
    }
   ],
   "source": [
    "# Визуализация тепловой карты пропущенных значений в датафрейме\n",
    "plt.figure(figsize = (12,5))\n",
    "heatmap = sns.heatmap(data = df.isnull())\n",
    "\n",
    "heatmap.set_title('Тепловая карта пропущенных значений в датафрейме');\n",
    "heatmap.set_xlabel('Признаки');\n",
    "heatmap.set_ylabel('Количество записей');"
   ]
  },
  {
   "cell_type": "code",
   "execution_count": 5,
   "metadata": {},
   "outputs": [
    {
     "data": {
      "text/plain": [
       "'Количество полных дубликтов в таблице составляет: 50'"
      ]
     },
     "metadata": {},
     "output_type": "display_data"
    },
    {
     "data": {
      "text/plain": [
       "(377135, 18)"
      ]
     },
     "execution_count": 5,
     "metadata": {},
     "output_type": "execute_result"
    }
   ],
   "source": [
    "# Поиск и удаление полных дубликатов\n",
    "mask = df.duplicated()\n",
    "df_duplicates = df[mask]\n",
    "display(f\"Количество полных дубликтов в таблице составляет: {df_duplicates.shape[0]}\")\n",
    "df.drop_duplicates(inplace=True)\n",
    "df.shape"
   ]
  },
  {
   "cell_type": "code",
   "execution_count": 6,
   "metadata": {},
   "outputs": [
    {
     "data": {
      "text/plain": [
       "status          10.584274\n",
       "private pool    98.891378\n",
       "propertyType     9.209699\n",
       "street           0.000530\n",
       "baths           28.188315\n",
       "homeFacts        0.000000\n",
       "fireplace       72.659127\n",
       "city             0.009015\n",
       "schools          0.000000\n",
       "sqft            10.752118\n",
       "zipcode          0.000000\n",
       "beds            24.196640\n",
       "state            0.000000\n",
       "stories         39.952007\n",
       "mls-id          93.386453\n",
       "PrivatePool     89.311520\n",
       "MlsId           17.730786\n",
       "target           0.657589\n",
       "dtype: float64"
      ]
     },
     "execution_count": 6,
     "metadata": {},
     "output_type": "execute_result"
    }
   ],
   "source": [
    "# Определение % пропусков в данных\n",
    "df.isnull().mean() * 100"
   ]
  },
  {
   "cell_type": "markdown",
   "metadata": {},
   "source": [
    "В целевом признаке **'target'** содержатся пропуски. Эти данные непригодны для обучения модели, следовательно от них можно избавится."
   ]
  },
  {
   "cell_type": "code",
   "execution_count": 7,
   "metadata": {},
   "outputs": [
    {
     "data": {
      "text/plain": [
       "(374655, 18)"
      ]
     },
     "execution_count": 7,
     "metadata": {},
     "output_type": "execute_result"
    }
   ],
   "source": [
    "# Удаление строк с пропусками в целевом признаке\n",
    "df.dropna(axis=0, subset='target', inplace=True)\n",
    "df.shape"
   ]
  },
  {
   "cell_type": "markdown",
   "metadata": {},
   "source": [
    "Проведем осмотр набора данных с помощью библиотеки Sweetviz с целью дальнейшего преобразования признаков"
   ]
  },
  {
   "cell_type": "code",
   "execution_count": null,
   "metadata": {},
   "outputs": [],
   "source": [
    "report = sv.analyze(df)\n",
    "report.show_notebook()\n",
    "# report.show_html()"
   ]
  },
  {
   "cell_type": "markdown",
   "metadata": {},
   "source": [
    "![](images/sweetviz.png?raw=true)"
   ]
  },
  {
   "cell_type": "markdown",
   "metadata": {},
   "source": [
    "Признаки **'mls-id'** и **'MlsId'** содержат уникальные номера идентификаторов системы мультилистинга, а также адреса (которые есть в других признаках). Учитывая большой % пропусков в 'mls-id' и большое количество уникальных значений в 'MlsId', можно считать эти признаки малоинформативными и удалить их из набора данных."
   ]
  },
  {
   "cell_type": "code",
   "execution_count": 9,
   "metadata": {},
   "outputs": [
    {
     "data": {
      "text/plain": [
       "(374655, 16)"
      ]
     },
     "execution_count": 9,
     "metadata": {},
     "output_type": "execute_result"
    }
   ],
   "source": [
    "df.drop(['mls-id', 'MlsId'], axis=1, inplace=True)\n",
    "df.shape"
   ]
  },
  {
   "cell_type": "markdown",
   "metadata": {},
   "source": [
    "Признаки **'private pool'** и **'PrivatePool'** указывают на наличие бассейна и следовательно могут быть объеденены. Большое количество пропусков в данном случае свидетельствует о том, что заполняются данные только о наличии бассейна, в то время как пропуски можно считать за отсутствие бассейна. Данные признаки можно использовать для нашей задачи, т.к. наличие бассейна может влиять на стоимость недвижимости."
   ]
  },
  {
   "cell_type": "code",
   "execution_count": 10,
   "metadata": {},
   "outputs": [
    {
     "data": {
      "text/plain": [
       "array([False,  True])"
      ]
     },
     "metadata": {},
     "output_type": "display_data"
    },
    {
     "data": {
      "text/plain": [
       "(374655, 15)"
      ]
     },
     "execution_count": 10,
     "metadata": {},
     "output_type": "execute_result"
    }
   ],
   "source": [
    "# Объединяем столбцы\n",
    "df['private_pool_bool'] = df['private pool'].combine_first(df['PrivatePool'])\n",
    "\n",
    "# Пропуски заменяем на False\n",
    "df['private_pool_bool'] = df['private_pool_bool'].fillna(False)\n",
    "\n",
    "# Значения 'yes'/'Yes' заменяем на True\n",
    "df['private_pool_bool'] = df['private_pool_bool'].replace(['yes', 'Yes'], True)\n",
    "\n",
    "# Удаляем обработанные столбцы\n",
    "df.drop(['private pool', 'PrivatePool'], axis=1, inplace=True)\n",
    "\n",
    "# Выводим уникальные значения в новом столбце\n",
    "display(df['private_pool_bool'].unique())\n",
    "df.shape"
   ]
  },
  {
   "cell_type": "markdown",
   "metadata": {},
   "source": [
    "Признак **'fireplace'** содержит большое количество пропусков, однако его можно использовать для решения нашей задачи, т.к. наличие камина может влиять на стоимость недвижимости. Пропуски будем считать за отсутствие камина."
   ]
  },
  {
   "cell_type": "code",
   "execution_count": 11,
   "metadata": {},
   "outputs": [
    {
     "data": {
      "text/plain": [
       "array([ True, False])"
      ]
     },
     "metadata": {},
     "output_type": "display_data"
    },
    {
     "data": {
      "text/plain": [
       "(374655, 15)"
      ]
     },
     "execution_count": 11,
     "metadata": {},
     "output_type": "execute_result"
    }
   ],
   "source": [
    "# Заменяем значения столбца на True/False\n",
    "df['fireplace_bool'] = df['fireplace'].apply(lambda x: True if str(x).lower() not in ['', '0', 'not applicable', 'no', 'not', 'none'] and not pd.isna(x) else False)\n",
    "\n",
    "# Удаляем обработанный столбец\n",
    "df.drop('fireplace', axis=1, inplace=True)\n",
    "\n",
    "# Выводим уникальные значения в новом столбце\n",
    "display(df['fireplace_bool'].unique())\n",
    "df.shape\n"
   ]
  },
  {
   "cell_type": "markdown",
   "metadata": {},
   "source": [
    "Признак **'status'** содержит 156 уникальных значений. Уменьшим их количество, объединив в группы по смысловой нагрузке. Пороговым значением для создания группы будем считать 1% от набора данных. Остальным значениям статуса, а также пустым значениям присвоим категорию \"Other\"."
   ]
  },
  {
   "cell_type": "code",
   "execution_count": 12,
   "metadata": {},
   "outputs": [
    {
     "data": {
      "text/plain": [
       "for sale            46.53\n",
       "Active              31.37\n",
       "For sale            12.96\n",
       "foreclosure          1.69\n",
       "New construction     1.63\n",
       "Pending              1.40\n",
       "Name: status, dtype: float64"
      ]
     },
     "metadata": {},
     "output_type": "display_data"
    }
   ],
   "source": [
    "# Выделим основные категории, которые имеют долю свыше 1%\n",
    "status = df['status'].value_counts(normalize=True)*100\n",
    "display(round(status[status > 1],2))"
   ]
  },
  {
   "cell_type": "code",
   "execution_count": 13,
   "metadata": {},
   "outputs": [],
   "source": [
    "# Создание словаря с категориями\n",
    "status_dict = {\n",
    "    \"For Sale\": [\"for sale\", \"For sale\"],\n",
    "    \"Active\": [\n",
    "        \"Active\", \"A Active\", \"Active/Contingent\", \"Active Under Contract\", \"Active Option\", \"Auction - Active\",\n",
    "        \"Active With Contingencies\", \"Active Option Contract\", \"Active Contingency\", \"Active Backup\",\n",
    "        \"Active Contingent\", \"Active - Auction\", \"Active With Offer\", \"Active - Contingent\", \"Active with Contract\",\n",
    "        \"Temporary Active\", \"Re Activated\", \"Reactivated\"\n",
    "    ],\n",
    "    \"Foreclosure\": [\n",
    "        \"Pre-foreclosure\", \"Pre-foreclosure / auction\", \" / auction\", \"Foreclosed\", \"foreclosure\", \"Foreclosure\", \n",
    "        \"Contingent   Foreclosure\"\n",
    "    ],\n",
    "    \"New construction\": [\n",
    "        \"New construction\", \"New\", \"Coming soon: Nov 21.\", \"Coming soon: Dec 4.\", \"Coming soon: Nov 23.\",\n",
    "        \"Coming soon: Dec 2.\", \"Coming soon: Dec 10.\", \"Coming soon: Dec 24.\", \"Coming soon: Nov 14.\",\n",
    "        \"Coming soon: Nov 22.\", \"Coming soon: Oct 21.\", \"Coming soon: Dec 14.\", \"Coming soon: Oct 24.\",\n",
    "        \"Coming soon: Dec 18.\", \"Coming soon: Dec 16.\", \"Coming soon: Dec 3.\", \"Coming soon: Dec 25.\",\n",
    "        \"Coming soon: Nov 11.\", \"Coming soon: Nov 28.\", \"Coming soon: Nov 17.\", \"Coming soon: Dec 6.\",\n",
    "        \"Coming soon: Nov 27.\", \"Coming soon: Nov 26.\", \"Coming soon: Dec 7.\", \"Coming soon: Dec 27.\",\n",
    "        \"Coming soon: Dec 11.\", \"Coming soon: Dec 5.\", \"Coming soon: Nov 13.\", \"Coming soon: Nov 19.\",\n",
    "        \"Coming soon: Nov 8.\", \"Coming soon: Oct 29.\", \"Coming soon: Dec 15.\", \"Coming soon: Oct 30.\",\n",
    "        \"Coming soon: Dec 9.\", \"Coming soon: Dec 20.\", \"Coming soon: Dec 13.\", \"Coming soon: Dec 23.\",\n",
    "        \"Coming soon: Nov 30.\", \"Coming soon: Dec 1.\", \"Coming soon: Nov 5.\", \"Coming soon: Nov 12.\",\n",
    "        \"Coming soon: Nov 25.\", \"Coming soon: Nov 9.\", \"Coming soon: Nov 29.\"\n",
    "    ],\n",
    "    \"Pending\": [\n",
    "        \"P\", \"Pending\", \"pending\", \"P Pending Sale\", \"Pending Ab\", \"Pending Continue To Show\",\n",
    "        \"Pending Inspection\", \"Pending Offer Approval\", \"Pending In\", \"Pending W/Insp Finance\", \"Pending Fe\",\n",
    "        \"Pending W/Backup Wanted\", \"Pending Backups Wanted\", \"Pending With Contingencies\", \"Lease/Purchase Pending\",\n",
    "        \"Pending Bring Backup\", \"Pending - Taking Backups\", \"Pending - Continue to Show\",\n",
    "        \"Pending Taking Backups\", \"Offer Pending Signature\", \"Pending (Do Not Show)\", \"Pending W/ Cont.\",\n",
    "        \"Pending W/Escape Clause\", \"Pending - Backup Offer Requested\", \"Pending Sale\"\n",
    "    ]\n",
    "}\n",
    "\n",
    "# Функция изменения категории\n",
    "def change_category(current_category):\n",
    "    for category, item in status_dict.items():\n",
    "        if current_category in item:\n",
    "            return category\n",
    "    return \"Other\"\n",
    "\n",
    "# Изменение категории статуса в датафрейме\n",
    "df['status'] = df['status'].apply(change_category)"
   ]
  },
  {
   "cell_type": "code",
   "execution_count": 14,
   "metadata": {},
   "outputs": [
    {
     "data": {
      "text/plain": [
       "'Количество уникальных категорий: 6'"
      ]
     },
     "metadata": {},
     "output_type": "display_data"
    },
    {
     "data": {
      "text/plain": [
       "For Sale            53.25\n",
       "Active              28.44\n",
       "Other               12.06\n",
       "Foreclosure          2.77\n",
       "Pending              1.80\n",
       "New construction     1.67\n",
       "Name: status, dtype: float64"
      ]
     },
     "metadata": {},
     "output_type": "display_data"
    }
   ],
   "source": [
    "# Проверка изменений\n",
    "display(f\"Количество уникальных категорий: {df['status'].nunique()}\")\n",
    "display(round(df['status'].value_counts(normalize=True)*100, 2))"
   ]
  },
  {
   "cell_type": "markdown",
   "metadata": {},
   "source": [
    "Признак **'propertyType'** содержит 1279 уникальных значений. Уменьшим их количество, объединив в группы по смысловой нагрузке. Пороговым значением для создания группы будем считать 1% от набора данных. Остальным значениям статуса, а также пустым значениям присвоим категорию \"Other\"."
   ]
  },
  {
   "cell_type": "code",
   "execution_count": 15,
   "metadata": {},
   "outputs": [
    {
     "data": {
      "text/plain": [
       "single-family home               26.87\n",
       "Single Family                    18.20\n",
       "Single Family Home                9.33\n",
       "condo                             7.61\n",
       "lot/land                          6.03\n",
       "Condo                             4.85\n",
       "townhouse                         3.36\n",
       "Land                              3.21\n",
       "multi-family                      2.32\n",
       "Condo/Townhome/Row Home/Co-Op     2.26\n",
       "Townhouse                         2.03\n",
       "Traditional                       1.74\n",
       "Name: propertyType, dtype: float64"
      ]
     },
     "metadata": {},
     "output_type": "display_data"
    },
    {
     "data": {
      "text/plain": [
       "single-family home               91370\n",
       "Single Family                    61886\n",
       "Single Family Home               31725\n",
       "condo                            25874\n",
       "lot/land                         20506\n",
       "Condo                            16494\n",
       "townhouse                        11435\n",
       "Land                             10933\n",
       "multi-family                      7874\n",
       "Condo/Townhome/Row Home/Co-Op     7701\n",
       "Townhouse                         6909\n",
       "Traditional                       5912\n",
       "Name: propertyType, dtype: int64"
      ]
     },
     "metadata": {},
     "output_type": "display_data"
    }
   ],
   "source": [
    "# Выделим основные категории, которые имеют долю свыше 1%\n",
    "propertyType = df['propertyType'].value_counts(normalize=True)*100\n",
    "display(round(propertyType[propertyType >= 1],2))\n",
    "display(df['propertyType'].value_counts()[:12])"
   ]
  },
  {
   "cell_type": "code",
   "execution_count": 16,
   "metadata": {},
   "outputs": [],
   "source": [
    "# Приведение значений к строчному виду\n",
    "df['propertyType'] = df['propertyType'].str.lower()\n",
    "\n",
    "# Создание словаря с категориями\n",
    "propertyType_dict = {\n",
    "    \"Single Family Home\": [\n",
    "        'single-family home', 'single family home', 'single family', 'singlefamilyresidence', '1 story',\n",
    "        '1 story, contemporary', '1 story, other (see remarks)', 'single wide mh'\n",
    "        'one story traditional', '1 story traditional', 'detached, one story',\n",
    "        'single detached', 'single wide', 'single-wide mobile with land',\n",
    "        '1 story,traditional', '1 story, historic/older, traditional', '1 story, split level', \n",
    "        'single detached, french', '1 story, traditional', 'single detached, traditional',\n",
    "        'one story', 'one level unit', '1 1/2 story'      \n",
    "    ],\n",
    "    \"Condo\": [\n",
    "        'condo', 'condo/unit', 'apartment/condo/townhouse', 'co-op', '2 story condo', 'high rise',\n",
    "        'coop', 'cooperative', 'condo/townhome/row home/co-op', 'condo/townhome','condominium',\n",
    "        'condo/townhome, hi-rise, contemporary/modern, loft', 'condo, other (see remarks)',\n",
    "        '2 unit condo', 'condo/townhome, contemporary/modern, loft, traditional', 'apartment',\n",
    "        'condo/townhome, hi-rise, resort property, vacation home, contemporary/modern',\n",
    "        'condo/townhome, other (see remarks)', 'condo/townhome, french', 'condo/townhome, craftsman, traditional',\n",
    "        'condominium (single level)', 'high-rise', 'mid-rise', 'low-rise (1-3 stories)', 'Flats', 'studio'     \n",
    "    ],\n",
    "    \"Land\": ['lot/land', 'land'],\n",
    "    \"Townhouse\": [\n",
    "        'townhouse', 'townhome', 'townhome style', 'townhouse-interior', 'townhouse-end unit',\n",
    "        'townhouse, attached/row', 'townhouse, northwestern contemporary', 'attached, townhouse',\n",
    "        'townhouse, 2-story', 'townhouse, two story, traditional', 'townhouse, villa'    \n",
    "    ],\n",
    "    \"Multi Family Home\": [\n",
    "        'multi-family', 'multi-family home', 'multi family', 'duplex', 'triplex', 'fourplex',\n",
    "        '2 stories', 'multi_level', '2-story', 'two story', 'multi-level, modern',\n",
    "        'detached, two story', '2 story, other (see remarks)', 'multiple occupancy'   \n",
    "    ],\n",
    "    \"Traditional\": [\n",
    "        'traditional', 'ranch', 'bungalow', 'farms/ranches', 'colonial', 'attached or 1/2 duplex, traditional',\n",
    "        'designated historical home', 'historical/conservation district', 'historic/older',\n",
    "        'historic vintage', 'historic', '1 story, historic/older, craftsman',\n",
    "        'historical/conservation district, single detached, contemporary/modern, traditional',\n",
    "        '1 story, historic/older, traditional, craftsman', 'historical, traditional',\n",
    "        '2 stories, historic/older, craftsman', 'traditional, transitional',\n",
    "        'rancher', '1 story/ranch', '1 story, ranch', 'rancher, raised ranch', 'farms/ranches',\n",
    "        'hi ranch', 'ranch, one story', 'ranch, traditional', 'farm house', 'garden home',\n",
    "        'ranch, one story, duplex', 'farm house', 'ranch, transitional', '2 stories, traditional',\n",
    "        'bungalow, contemporary, ranch, traditional', '1 story, ranch, traditional, texas hill country',\n",
    "        '1 story, contemporary, ranch, historic/older, traditional', 'farm house, transitional',\n",
    "        'ranch, traditional, transitional', 'old world, ranch', 'ranch, split level', \n",
    "        'ranch, spanish', 'farm/ranch house, single detached, contemporary/modern, ranch',\n",
    "        '2 stories, colonial, ranch', '1 story, ranch, craftsman', 'raised ranch, rancher'\n",
    "    ]\n",
    "}\n",
    "\n",
    "# Функция изменения категории\n",
    "def change_category(current_category):\n",
    "    for category, item in propertyType_dict.items():\n",
    "        if current_category in item:\n",
    "            return category\n",
    "    return \"Other\"\n",
    "\n",
    "# Изменение категории статуса в датафрейме\n",
    "df['propertyType'] = df['propertyType'].apply(change_category)"
   ]
  },
  {
   "cell_type": "code",
   "execution_count": 17,
   "metadata": {},
   "outputs": [
    {
     "data": {
      "text/plain": [
       "'Количество уникальных категорий: 7'"
      ]
     },
     "metadata": {},
     "output_type": "display_data"
    },
    {
     "data": {
      "text/plain": [
       "Single Family Home    51.07\n",
       "Condo                 15.24\n",
       "Other                 13.68\n",
       "Land                   8.39\n",
       "Townhouse              4.90\n",
       "Multi Family Home      3.82\n",
       "Traditional            2.89\n",
       "Name: propertyType, dtype: float64"
      ]
     },
     "metadata": {},
     "output_type": "display_data"
    },
    {
     "data": {
      "text/plain": [
       "Single Family Home    191321\n",
       "Condo                  57096\n",
       "Other                  51267\n",
       "Land                   31439\n",
       "Townhouse              18374\n",
       "Multi Family Home      14325\n",
       "Traditional            10833\n",
       "Name: propertyType, dtype: int64"
      ]
     },
     "metadata": {},
     "output_type": "display_data"
    }
   ],
   "source": [
    "# Проверка изменений\n",
    "display(f\"Количество уникальных категорий: {df['propertyType'].nunique()}\")\n",
    "display(round(df['propertyType'].value_counts(normalize=True)*100, 2))\n",
    "display(df['propertyType'].value_counts())"
   ]
  },
  {
   "cell_type": "markdown",
   "metadata": {},
   "source": [
    "Признак **'street'** содержит 89% уникальных значений, кроме того наиболее распространенными являются записи без указания улиц. Извлечь полезную информацию для модели из данного признака представляется проблематичным. Для определения географического положения недвижимости будут использованы принаки 'city', 'state'. Признак 'street' подлежит удалению."
   ]
  },
  {
   "cell_type": "code",
   "execution_count": 18,
   "metadata": {},
   "outputs": [
    {
     "data": {
      "text/plain": [
       "(374655, 14)"
      ]
     },
     "execution_count": 18,
     "metadata": {},
     "output_type": "execute_result"
    }
   ],
   "source": [
    "# Удаляем неиформативный признак\n",
    "df.drop('street', axis=1, inplace=True)\n",
    "df.shape"
   ]
  },
  {
   "cell_type": "markdown",
   "metadata": {},
   "source": [
    "Признак **'baths'** содержит 28% пропущенных значений. Будем считать пропуски за отсутствие ванной комнаты (например, для типа недвижимости Land это вполне допустимо). Данные в признаке представлены в виде чисел и строк, необходимо привести данные к целочисленным значениям и избавиться от аномальных значений (сотни и тысячи)."
   ]
  },
  {
   "cell_type": "code",
   "execution_count": 19,
   "metadata": {},
   "outputs": [
    {
     "data": {
      "text/plain": [
       "array(['3.5', '3', '2', '8', nan, '1,750', '4', '5', '1,000', '7', '2.0',\n",
       "       '3.0', '1', '4.0', '2.1', '2.5', '4.5', '6', '2,500', '5.5', '1.0',\n",
       "       '1.5', '~', '4,000', '2,000', '3,000', '8.0', '0', '5.0', '1,500',\n",
       "       '7.0', '1,250', '9', '2,250', '6.0', '12', '3,500', '2,750', '750',\n",
       "       '10', '19', '10.0', '7.5', '0/0', '..', '18', '--', '11', '5,000',\n",
       "       '1.75', '12.0', '6.5', '16', '13', '14', '9.0', '8.5', '1.1', '17',\n",
       "       '241', '16.0', '10.5', '7,500', '11.0', '20', '40', '1-0/1-0/1',\n",
       "       '14.0', '2.75', '24', '22.0', '0.00', '2.25', '3.1', '3.25', '—',\n",
       "       '22', '32', '18.0', '0.0', '27', '26', '9.5', '15', '35', '3.75',\n",
       "       '29', '116/116/116', '21', '5.2', '14.5', '76', '13.0', '',\n",
       "       '3-1/2-2', '15.0', '23', '43', '1.25', '34', '2.2', '1/1/1/1',\n",
       "       '55.0', '25', '12.5', '44', '0.5', '4.25', '4.75', '0.75', '4.1',\n",
       "       '5.25', '41.0', '36', '30', '24.0', '23.0', '28', '34.0', '64.0',\n",
       "       '11.5', '39', '30.0', '17.0', '42', '3.2', '20.0',\n",
       "       '2-1/2-1/1-1/1-1', '60', '1/1-0/1-0/1-0', '6.75', '1-2', '68',\n",
       "       '44.0'], dtype=object)"
      ]
     },
     "metadata": {},
     "output_type": "display_data"
    }
   ],
   "source": [
    "# Удаляем буквы и двоеточия\n",
    "df['baths'] = df['baths'].str.replace('[a-zA-Z+:]','', regex=True)\n",
    "\n",
    "# Удаляем пробелы\n",
    "df['baths'] = df['baths'].str.replace(' ','', regex=True)\n",
    "\n",
    "display(df['baths'].unique())\n"
   ]
  },
  {
   "cell_type": "code",
   "execution_count": 20,
   "metadata": {},
   "outputs": [],
   "source": [
    "# Функция выделения и преобразования числа ванных комнат\n",
    "def count_baths(arg):\n",
    "    result = re.findall(r'\\d+\\.*,*\\d*', str(arg)) # поиск числа в строке\n",
    "    if len(result) > 0:\n",
    "        result = result[0] # первое значение в строке\n",
    "        result = float(result.replace(',', '')) # удаление запятой для тысяч\n",
    "        if result >= 1000: # преобразование тысяч\n",
    "            result = result / 1000\n",
    "        if result >= 100: # преобразование сотен\n",
    "            result = result / 100    \n",
    "    else:\n",
    "        result = 0 # если в строке не было числа, считаем за 0\n",
    "    return result\n",
    "\n",
    "# Применяем функцию для преобразования признака\n",
    "df['baths'] = df['baths'].apply(lambda arg: count_baths(arg))"
   ]
  },
  {
   "cell_type": "code",
   "execution_count": 21,
   "metadata": {},
   "outputs": [
    {
     "data": {
      "text/plain": [
       "2    31.76\n",
       "0    29.56\n",
       "3    19.38\n",
       "4     7.42\n",
       "1     6.65\n",
       "5     2.66\n",
       "6     1.20\n",
       "7     0.64\n",
       "8     0.32\n",
       "9     0.15\n",
       "Name: baths, dtype: float64"
      ]
     },
     "metadata": {},
     "output_type": "display_data"
    },
    {
     "data": {
      "text/plain": [
       "2    118997\n",
       "0    110747\n",
       "3     72599\n",
       "4     27804\n",
       "1     24907\n",
       "5      9962\n",
       "6      4486\n",
       "7      2396\n",
       "8      1189\n",
       "9       551\n",
       "Name: baths, dtype: int64"
      ]
     },
     "metadata": {},
     "output_type": "display_data"
    }
   ],
   "source": [
    "# Приведение к целым числам\n",
    "df['baths'] = df['baths'].astype(int).round()\n",
    "\n",
    "# Проверка изменений\n",
    "display(round(df['baths'].value_counts(normalize=True)[:10]*100, 2))\n",
    "display(df['baths'].value_counts()[:10])"
   ]
  },
  {
   "cell_type": "markdown",
   "metadata": {},
   "source": [
    "Признак **'homeFacts'** содержит словари с дополнительными сведениями об объектах недвижимости. Произведем десериализацию данных и на их основе создадим новые признаки."
   ]
  },
  {
   "cell_type": "code",
   "execution_count": 22,
   "metadata": {},
   "outputs": [
    {
     "data": {
      "text/plain": [
       "array([\"{'atAGlanceFacts': [{'factValue': '2019', 'factLabel': 'Year built'}, {'factValue': '', 'factLabel': 'Remodeled year'}, {'factValue': 'Central A/C, Heat Pump', 'factLabel': 'Heating'}, {'factValue': '', 'factLabel': 'Cooling'}, {'factValue': '', 'factLabel': 'Parking'}, {'factValue': None, 'factLabel': 'lotsize'}, {'factValue': '$144', 'factLabel': 'Price/sqft'}]}\",\n",
       "       \"{'atAGlanceFacts': [{'factValue': '2019', 'factLabel': 'Year built'}, {'factValue': '', 'factLabel': 'Remodeled year'}, {'factValue': '', 'factLabel': 'Heating'}, {'factValue': '', 'factLabel': 'Cooling'}, {'factValue': '', 'factLabel': 'Parking'}, {'factValue': '5828 sqft', 'factLabel': 'lotsize'}, {'factValue': '$159/sqft', 'factLabel': 'Price/sqft'}]}\",\n",
       "       \"{'atAGlanceFacts': [{'factValue': '1961', 'factLabel': 'Year built'}, {'factValue': '1967', 'factLabel': 'Remodeled year'}, {'factValue': 'Forced Air', 'factLabel': 'Heating'}, {'factValue': 'Central', 'factLabel': 'Cooling'}, {'factValue': 'Attached Garage', 'factLabel': 'Parking'}, {'factValue': '8,626 sqft', 'factLabel': 'lotsize'}, {'factValue': '$965/sqft', 'factLabel': 'Price/sqft'}]}\",\n",
       "       \"{'atAGlanceFacts': [{'factValue': '2006', 'factLabel': 'Year built'}, {'factValue': '2006', 'factLabel': 'Remodeled year'}, {'factValue': 'Forced Air', 'factLabel': 'Heating'}, {'factValue': 'Central', 'factLabel': 'Cooling'}, {'factValue': 'Detached Garage', 'factLabel': 'Parking'}, {'factValue': '8,220 sqft', 'factLabel': 'lotsize'}, {'factValue': '$371/sqft', 'factLabel': 'Price/sqft'}]}\",\n",
       "       \"{'atAGlanceFacts': [{'factValue': '', 'factLabel': 'Year built'}, {'factValue': '', 'factLabel': 'Remodeled year'}, {'factValue': '', 'factLabel': 'Heating'}, {'factValue': '', 'factLabel': 'Cooling'}, {'factValue': '', 'factLabel': 'Parking'}, {'factValue': '10,019 sqft', 'factLabel': 'lotsize'}, {'factValue': None, 'factLabel': 'Price/sqft'}]}\"],\n",
       "      dtype=object)"
      ]
     },
     "execution_count": 22,
     "metadata": {},
     "output_type": "execute_result"
    }
   ],
   "source": [
    "# Проверим содержимое словаря\n",
    "df['homeFacts'].unique()[:5]"
   ]
  },
  {
   "cell_type": "code",
   "execution_count": 23,
   "metadata": {},
   "outputs": [],
   "source": [
    "# Функция десериализации данных из признака\n",
    "def homeFacts_extract(arg):\n",
    "\n",
    "    # С помощью функции eval() извелечем данные из строки в словарь\n",
    "    result = eval(arg)['atAGlanceFacts']\n",
    "\n",
    "    # Возвращаем значения признаков в виде Series\n",
    "    return pd.Series([el['factValue'] for el in result])"
   ]
  },
  {
   "cell_type": "code",
   "execution_count": 24,
   "metadata": {},
   "outputs": [],
   "source": [
    "# Создаем новые признаки из homeFacts\n",
    "df[['year_built', 'remodeled_year', 'heating', 'cooling',\n",
    "    'parking', 'lotsize', 'price_sqft']] = df['homeFacts'].apply(homeFacts_extract)"
   ]
  },
  {
   "cell_type": "code",
   "execution_count": 25,
   "metadata": {},
   "outputs": [],
   "source": [
    "# Удаляем обработанный признак homeFacts\n",
    "df.drop('homeFacts', axis=1, inplace=True)"
   ]
  },
  {
   "cell_type": "code",
   "execution_count": 26,
   "metadata": {},
   "outputs": [
    {
     "data": {
      "image/png": "[encoded data removed]",
      "text/plain": [
       "<Figure size 1200x500 with 2 Axes>"
      ]
     },
     "metadata": {},
     "output_type": "display_data"
    }
   ],
   "source": [
    "# Визуализируем пропуски в обновленном датафрейме\n",
    "plt.figure(figsize = (12,5))\n",
    "heatmap = sns.heatmap(data = df.isnull())\n",
    "\n",
    "heatmap.set_title('Тепловая карта пропущенных значений в датафрейме');\n",
    "heatmap.set_xlabel('Признаки');\n",
    "heatmap.set_ylabel('Количество записей');"
   ]
  },
  {
   "cell_type": "markdown",
   "metadata": {},
   "source": [
    "По тепловой карте видно, что в новых признаках есть пропуски, их также необходимо обработать."
   ]
  },
  {
   "cell_type": "markdown",
   "metadata": {},
   "source": [
    "Признаки **'year_built'** и **'remodeled_year'**"
   ]
  },
  {
   "cell_type": "code",
   "execution_count": 27,
   "metadata": {},
   "outputs": [
    {
     "name": "stdout",
     "output_type": "stream",
     "text": [
      "Количество пустых значений в year_built - 62054, что составляет 16.56%.\n",
      "Количество пустых значений в remodeled_year - 224822, что составляет 60.01%.\n"
     ]
    }
   ],
   "source": [
    "# Определим количество пропусков признаках\n",
    "year_b_na = df['year_built'].isna().sum()\n",
    "year_b_na += df[df['year_built'] == ''].shape[0]\n",
    "year_b_na_percent = round(year_b_na / df.shape[0] * 100, 2)\n",
    "\n",
    "year_r_na = df['remodeled_year'].isna().sum()\n",
    "year_r_na += df[df['remodeled_year'] == ''].shape[0]\n",
    "year_r_na_percent = round(year_r_na / df.shape[0] * 100, 2)\n",
    "\n",
    "print(f'Количество пустых значений в year_built - {year_b_na}, что составляет {year_b_na_percent}%.')\n",
    "print(f'Количество пустых значений в remodeled_year - {year_r_na}, что составляет {year_r_na_percent}%.')"
   ]
  },
  {
   "cell_type": "markdown",
   "metadata": {},
   "source": [
    "Пропусков в признаке **'remodeled_year'** очень много, можно попробовать объединить 2 признака, тем самым уменьшив суммарное количество пропусков и получить новый признак строительства/модернизации объекта недвижимости."
   ]
  },
  {
   "cell_type": "code",
   "execution_count": 28,
   "metadata": {},
   "outputs": [],
   "source": [
    "# Функция объединения признаков year_built и remodeled_year\n",
    "def combine_year(year_b, year_r):\n",
    "    \n",
    "    if (year_b == np.NaN) or (year_b == None) or (year_b == '') : # если в year_b не указан год\n",
    "        if (year_r is np.NaN) or (year_r == None) or (year_r == ''): # и в year_r не указан год\n",
    "            result = None # то возвращаем None\n",
    "        elif year_r.isdigit(): # если в year_r указан год\n",
    "            result = year_r # то возвращаем year_r\n",
    "        else:\n",
    "            result = None # иначе возвращаем None\n",
    "    elif year_b.isdigit(): # если в year_b указан год\n",
    "        if (year_r == np.NaN) or (year_r == None) or (year_r == ''): # а в year_r год не указан\n",
    "            result = year_b # то возвращаем year_b\n",
    "        elif year_r.isdigit(): # если в year_r указан год\n",
    "            if int(year_b) >= int(year_r): # сравниваем year_b и year_r, если year_b не меньше year_r\n",
    "                result = year_b # то возвращаем year_b\n",
    "            else:\n",
    "                result = year_r # иначе возвращаем year_r\n",
    "        else:\n",
    "            result = year_b # если year_r и не None, и не год, то возвращаем year_b\n",
    "    else:\n",
    "        result = None # если year_b b year_r не год и не None, то возвращаем None\n",
    "\n",
    "    return result\n",
    "\n",
    "# Создадим новый признак из двух\n",
    "df['last_renovation_year'] = df[['year_built', 'remodeled_year']].apply(lambda x: combine_year(*x), axis=1)\n",
    "\n"
   ]
  },
  {
   "cell_type": "code",
   "execution_count": 29,
   "metadata": {},
   "outputs": [
    {
     "name": "stdout",
     "output_type": "stream",
     "text": [
      "Количество пустых значений в last_renovation_year - 61829, что составляет 16.56%.\n"
     ]
    }
   ],
   "source": [
    "# Проверяем количество пропусков в новом признаке\n",
    "year_last_na = df['last_renovation_year'].isna().sum()\n",
    "year_last_na += df[df['last_renovation_year'] == ''].shape[0]\n",
    "year_last_na_percent = round(year_b_na / df.shape[0] * 100, 2)\n",
    "\n",
    "print(f'Количество пустых значений в last_renovation_year - {year_last_na}, что составляет {year_last_na_percent}%.')"
   ]
  },
  {
   "cell_type": "markdown",
   "metadata": {},
   "source": [
    "Как видно, количество пропусков в итоговом признаке уменьшилось незначительно. Заполним пропуски в признаке, используя медианные значения для каждого из типов объектов недвижимости."
   ]
  },
  {
   "cell_type": "code",
   "execution_count": 30,
   "metadata": {},
   "outputs": [
    {
     "data": {
      "image/png": "[encoded data removed]",
      "text/plain": [
       "<Figure size 640x480 with 1 Axes>"
      ]
     },
     "metadata": {},
     "output_type": "display_data"
    }
   ],
   "source": [
    "# Вычислим медианное значение года строительства/модернизации для разных типов недвижимости\n",
    "median_year = df.groupby('propertyType')['last_renovation_year'].median().sort_values()\n",
    "\n",
    "# Отобразим медианы в виде диаграммы\n",
    "barplot = sns.barplot(\n",
    "    data = median_year.to_frame().reset_index(),\n",
    "    y = 'last_renovation_year',\n",
    "    x = 'propertyType'\n",
    ");\n",
    "barplot.set_title('Медианное значение года строительства/модернизации недвижимости');\n",
    "barplot.set_xlabel('Тип недвижимости');\n",
    "barplot.set_ylabel('Год строительства/модернизации');\n",
    "barplot.set_xticklabels(barplot.get_xticklabels(), rotation=45);\n",
    "barplot.set(ylim=(1900,2022));"
   ]
  },
  {
   "cell_type": "code",
   "execution_count": 31,
   "metadata": {},
   "outputs": [
    {
     "name": "stdout",
     "output_type": "stream",
     "text": [
      "Осталось пропусков в признаке last_renovation_year: 0\n"
     ]
    }
   ],
   "source": [
    "# Заполняем пропуски медианой\n",
    "for el in median_year.index:\n",
    "    mask1 = df['propertyType'] == el # маска по типу недвижимости\n",
    "    mask2 = df['last_renovation_year'].isna() == True # маска по пропускам в last_renovation_year\n",
    "    ind = df[mask1 & mask2]['last_renovation_year'].index # сохраняем индекс\n",
    "    df.loc[ind, 'last_renovation_year'] = median_year[el] # приcваиваем медиану\n",
    "\n",
    "# Приводим к типу int\n",
    "df['last_renovation_year'] = np.int64(df['last_renovation_year'])\n",
    "\n",
    "# Проверяем, что все пропуски заполнены\n",
    "print('Осталось пропусков в признаке last_renovation_year:', df['last_renovation_year'].isna().sum())"
   ]
  },
  {
   "cell_type": "code",
   "execution_count": 32,
   "metadata": {},
   "outputs": [],
   "source": [
    "# Удаляем обработанные признаки\n",
    "df.drop(['year_built', 'remodeled_year'], axis=1, inplace=True)"
   ]
  },
  {
   "cell_type": "markdown",
   "metadata": {},
   "source": [
    "Признаки **'heating'**, **'cooling'**, **'parking'**. Наличие отопления, кондиционирования и паркинга могут влиять на стоимость недвижимости, поэтому преобразуем данные признаки. Пропуски будем считать за отсутствие соответствующей категории."
   ]
  },
  {
   "cell_type": "code",
   "execution_count": 33,
   "metadata": {},
   "outputs": [
    {
     "data": {
      "text/plain": [
       "forced air                     133475\n",
       "                               105127\n",
       "other                           29064\n",
       "electric                        10176\n",
       "gas                              9266\n",
       "heat pump                        8806\n",
       "no data                          8415\n",
       "central air                      7814\n",
       "central electric                 7112\n",
       "central                          6245\n",
       "central, electric                4252\n",
       "baseboard                        3771\n",
       "wall                             3277\n",
       "electric heat                    3064\n",
       "heating system                   2709\n",
       "forced air, heat pump            1764\n",
       "radiant                          1481\n",
       "central air, ceiling fan(s)      1431\n",
       "natural gas heat                 1383\n",
       "central furnace                  1036\n",
       "Name: heating, dtype: int64"
      ]
     },
     "metadata": {},
     "output_type": "display_data"
    },
    {
     "data": {
      "text/plain": [
       "'Количество пропущенных значений: 0.93 %'"
      ]
     },
     "metadata": {},
     "output_type": "display_data"
    }
   ],
   "source": [
    "# Посмотрим данные столбца 'heating'\n",
    "display(df['heating'].str.lower().value_counts()[:20])\n",
    "\n",
    "# Проверим % пропущенных значений\n",
    "heating_null = df['heating'].isnull().mean()*100\n",
    "display(f'Количество пропущенных значений: {heating_null:.2f} %')"
   ]
  },
  {
   "cell_type": "code",
   "execution_count": 34,
   "metadata": {},
   "outputs": [
    {
     "data": {
      "text/plain": [
       "True     257560\n",
       "False    117095\n",
       "Name: heating_bool, dtype: int64"
      ]
     },
     "metadata": {},
     "output_type": "display_data"
    }
   ],
   "source": [
    "# Удалим лишние кавычки\n",
    "df['heating'] = df['heating'].str.replace(\"'\",'', regex=True)\n",
    "\n",
    "# Заменяем значения столбца на True/False\n",
    "df['heating_bool'] = df['heating'].apply(lambda x: True if str(x).lower() not in ['', 'no data', '0', 'not applicable', 'no', 'not', 'none'] else False)\n",
    "\n",
    "# Удаляем обработанный столбец\n",
    "df.drop('heating', axis=1, inplace=True)\n",
    "\n",
    "# Выводим уникальные значения в новом столбце\n",
    "display(df['heating_bool'].value_counts())"
   ]
  },
  {
   "cell_type": "code",
   "execution_count": 35,
   "metadata": {},
   "outputs": [
    {
     "data": {
      "text/plain": [
       "central                                            157628\n",
       "                                                   119552\n",
       "central air                                         14382\n",
       "no data                                             10395\n",
       "has cooling                                          9729\n",
       "none                                                 7291\n",
       "central electric                                     6154\n",
       "wall                                                 3983\n",
       "central gas                                          3573\n",
       "central heating                                      2807\n",
       "cooling system                                       2700\n",
       "central a/c                                          2051\n",
       "other                                                1792\n",
       "central a/c (electric), central heat (gas)           1646\n",
       "central a/c (electric), central heat (electric)      1429\n",
       "refrigeration                                        1061\n",
       "central, electric                                    1059\n",
       "electric                                             1009\n",
       "evaporative                                           987\n",
       "central air, gas hot air/furnace                      827\n",
       "Name: cooling, dtype: int64"
      ]
     },
     "metadata": {},
     "output_type": "display_data"
    },
    {
     "data": {
      "text/plain": [
       "'Количество пропущенных значений: 0.93 %'"
      ]
     },
     "metadata": {},
     "output_type": "display_data"
    }
   ],
   "source": [
    "# Посмотрим данные столбца 'cooling'\n",
    "display(df['cooling'].str.lower().value_counts()[:20])\n",
    "\n",
    "# Проверим % пропущенных значений\n",
    "cooling_null = df['cooling'].isnull().mean()*100\n",
    "display(f'Количество пропущенных значений: {cooling_null:.2f} %')"
   ]
  },
  {
   "cell_type": "code",
   "execution_count": 36,
   "metadata": {},
   "outputs": [
    {
     "data": {
      "text/plain": [
       "True     233932\n",
       "False    140723\n",
       "Name: cooling_bool, dtype: int64"
      ]
     },
     "metadata": {},
     "output_type": "display_data"
    }
   ],
   "source": [
    "# Удалим лишние кавычки\n",
    "df['cooling'] = df['cooling'].str.replace(\"'\",'', regex=True)\n",
    "\n",
    "# Заменяем значения столбца на True/False\n",
    "df['cooling_bool'] = df['cooling'].apply(lambda x: True if str(x).lower() not in ['', 'no data', '0', 'not applicable', 'no', 'not', 'none'] else False)\n",
    "\n",
    "# Удаляем обработанный столбец\n",
    "df.drop('cooling', axis=1, inplace=True)\n",
    "\n",
    "# Выводим уникальные значения в новом столбце\n",
    "display(df['cooling_bool'].value_counts())"
   ]
  },
  {
   "cell_type": "code",
   "execution_count": 37,
   "metadata": {},
   "outputs": [
    {
     "data": {
      "text/plain": [
       "                                    170991\n",
       "attached garage                      70240\n",
       "2 spaces                             27865\n",
       "1 space                              14109\n",
       "detached garage                      13093\n",
       "no data                              13022\n",
       "carport                               7664\n",
       "off street                            5240\n",
       "3 spaces                              4702\n",
       "carport, attached garage              3006\n",
       "1                                     2928\n",
       "4 spaces                              2900\n",
       "2                                     2745\n",
       "none                                  2345\n",
       "on street                             1697\n",
       "attached garage, detached garage      1334\n",
       "0                                     1114\n",
       "attached garage, carport               987\n",
       "parking desc                           900\n",
       "6 spaces                               748\n",
       "Name: parking, dtype: int64"
      ]
     },
     "metadata": {},
     "output_type": "display_data"
    },
    {
     "data": {
      "text/plain": [
       "'Количество пропущенных значений: 0.93 %'"
      ]
     },
     "metadata": {},
     "output_type": "display_data"
    }
   ],
   "source": [
    "# Посмотрим данные столбца 'parking'\n",
    "display(df['parking'].str.lower().value_counts()[:20])\n",
    "\n",
    "# Проверим % пропущенных значений\n",
    "parking_null = df['parking'].isnull().mean()*100\n",
    "display(f'Количество пропущенных значений: {parking_null:.2f} %')"
   ]
  },
  {
   "cell_type": "code",
   "execution_count": 38,
   "metadata": {},
   "outputs": [
    {
     "data": {
      "text/plain": [
       "False    190966\n",
       "True     183689\n",
       "Name: parking_bool, dtype: int64"
      ]
     },
     "metadata": {},
     "output_type": "display_data"
    }
   ],
   "source": [
    "# Удалим лишние кавычки\n",
    "df['parking'] = df['parking'].str.replace(\"'\",'', regex=True)\n",
    "\n",
    "# Заменяем значения столбца на True/False\n",
    "df['parking_bool'] = df['parking'].apply(lambda x: True if str(x).lower() not in ['', 'no data', '0', 'not applicable', 'no', 'not', 'none'] else False)\n",
    "\n",
    "# Удаляем обработанный столбец\n",
    "df.drop('parking', axis=1, inplace=True)\n",
    "\n",
    "# Выводим уникальные значения в новом столбце\n",
    "display(df['parking_bool'].value_counts())"
   ]
  },
  {
   "cell_type": "markdown",
   "metadata": {},
   "source": [
    "Признак **'lotsize'** показывает размер участка, на котором находится недвижимость. Большое количество пропусков и отсутствующих значений не позволяют использовать признак для предсказания."
   ]
  },
  {
   "cell_type": "code",
   "execution_count": 39,
   "metadata": {},
   "outputs": [
    {
     "data": {
      "text/plain": [
       "               9.483537\n",
       "—              7.268518\n",
       "no data        1.528346\n",
       "-- sqft lot    1.100582\n",
       "0.26 acres     0.897669\n",
       "0.25 acres     0.779615\n",
       "0.28 acres     0.750751\n",
       "0.27 acres     0.706878\n",
       "0.29 acres     0.672819\n",
       "0.34 acres     0.556208\n",
       "Name: lotsize, dtype: float64"
      ]
     },
     "metadata": {},
     "output_type": "display_data"
    },
    {
     "data": {
      "text/plain": [
       "'Количество пропущенных значений: 7.53 %'"
      ]
     },
     "metadata": {},
     "output_type": "display_data"
    }
   ],
   "source": [
    "# Посмотрим данные столбца 'parking'\n",
    "display(df['lotsize'].str.lower().value_counts(normalize=True)[:10]*100)\n",
    "\n",
    "# Проверим % пропущенных значений\n",
    "lotsize_null = df['lotsize'].isnull().mean()*100\n",
    "display(f'Количество пропущенных значений: {lotsize_null:.2f} %')"
   ]
  },
  {
   "cell_type": "code",
   "execution_count": 40,
   "metadata": {},
   "outputs": [],
   "source": [
    "# Удаляем столбец\n",
    "df.drop('lotsize', axis=1, inplace=True)"
   ]
  },
  {
   "cell_type": "markdown",
   "metadata": {},
   "source": [
    "Признак **'price_sqft'** показывает цену за квадратный фут. Т.к. данный признак может иметь зависимость с целевым признаком **'target'** целесообразно удалить его во избежание утечки данных."
   ]
  },
  {
   "cell_type": "code",
   "execution_count": 41,
   "metadata": {},
   "outputs": [],
   "source": [
    "# Удаляем столбец\n",
    "df.drop('price_sqft', axis=1, inplace=True)"
   ]
  },
  {
   "cell_type": "markdown",
   "metadata": {},
   "source": [
    "Признак **'city'** содержит 34 пропуска, а также значения, которые не идентифицированы. Т.к. количество таких строк очень мало, целесообразно избавиться от них."
   ]
  },
  {
   "cell_type": "code",
   "execution_count": 42,
   "metadata": {},
   "outputs": [
    {
     "data": {
      "text/plain": [
       "             20\n",
       "--            9\n",
       "abilene     134\n",
       "abingdon    116\n",
       "accokeek      3\n",
       "adams         4\n",
       "addison      25\n",
       "adel         13\n",
       "adelphi       6\n",
       "advance       3\n",
       "Name: city, dtype: int64"
      ]
     },
     "execution_count": 42,
     "metadata": {},
     "output_type": "execute_result"
    }
   ],
   "source": [
    "# Приводим к нижему регистру\n",
    "df['city'] = df['city'].str.lower()\n",
    "\n",
    "df['city'].value_counts().sort_index().head(10)"
   ]
  },
  {
   "cell_type": "code",
   "execution_count": 43,
   "metadata": {},
   "outputs": [
    {
     "data": {
      "text/plain": [
       "'Количество удаленных строк: 63'"
      ]
     },
     "metadata": {},
     "output_type": "display_data"
    }
   ],
   "source": [
    "# Удалим приставку Сity в названии городов\n",
    "df['city'] = df['city'].str.replace(' City', '')\n",
    "\n",
    "# Сохраним исходное количество строк\n",
    "row_count_before = df.shape[0]\n",
    "\n",
    "# Удалим строки без указания города\n",
    "df = df[~df['city'].isin([' ', '--', np.nan])]\n",
    "\n",
    "# Посчитаем количество удаленных строк\n",
    "deleted_rows = row_count_before - df.shape[0]\n",
    "\n",
    "display(f\"Количество удаленных строк: {deleted_rows}\")"
   ]
  },
  {
   "cell_type": "code",
   "execution_count": 44,
   "metadata": {},
   "outputs": [
    {
     "data": {
      "text/plain": [
       "'Количество пропущенных значений: 0.00 %'"
      ]
     },
     "metadata": {},
     "output_type": "display_data"
    }
   ],
   "source": [
    "# Проверим % пропущенных значений\n",
    "city_null = df['city'].isnull().mean()*100\n",
    "display(f'Количество пропущенных значений: {city_null:.2f} %')"
   ]
  },
  {
   "cell_type": "markdown",
   "metadata": {},
   "source": [
    "Признак **'schools'** представляет собой словари, содержащие информацию о рейтинге, расстоянии до школы, названии и классах. Извлечем информацию о рейтинге и расстоянии для нашей модели."
   ]
  },
  {
   "cell_type": "code",
   "execution_count": 45,
   "metadata": {},
   "outputs": [
    {
     "data": {
      "text/plain": [
       "array(['[{\\'rating\\': [\\'4\\', \\'4\\', \\'7\\', \\'NR\\', \\'4\\', \\'7\\', \\'NR\\', \\'NR\\'], \\'data\\': {\\'Distance\\': [\\'2.7 mi\\', \\'3.6 mi\\', \\'5.1 mi\\', \\'4.0 mi\\', \\'10.5 mi\\', \\'12.6 mi\\', \\'2.7 mi\\', \\'3.1 mi\\'], \\'Grades\\': [\\'3–5\\', \\'6–8\\', \\'9–12\\', \\'PK–2\\', \\'6–8\\', \\'9–12\\', \\'PK–5\\', \\'K–12\\']}, \\'name\\': [\\'Southern Pines Elementary School\\', \\'Southern Middle School\\', \\'Pinecrest High School\\', \\'Southern Pines Primary School\\', \"Crain\\'s Creek Middle School\", \\'Union Pines High School\\', \\'Episcopal Day Private School\\', \\'Calvary Christian Private School\\']}]',\n",
       "       \"[{'rating': ['4/10', 'None/10', '4/10'], 'data': {'Distance': ['1.65mi', '1.32mi', '1.01mi'], 'Grades': ['9-12', '3-8', 'PK-8']}, 'name': ['East Valley High School&Extension', 'Eastvalley Middle School', 'Trentwood Elementary School']}]\",\n",
       "       \"[{'rating': ['8/10', '4/10', '8/10'], 'data': {'Distance': ['1.19mi', '2.06mi', '2.63mi'], 'Grades': ['6-8', 'K-5', '9-12']}, 'name': ['Paul Revere Middle School', 'Brentwood Science School', 'Palisades Charter High School']}]\",\n",
       "       \"[{'rating': ['9/10', '9/10', '10/10', '9/10'], 'data': {'Distance': ['1.05mi', '0.1mi', '1.05mi', '0.81mi'], 'Grades': ['5-6', 'PK-4', '7-8', '9-12']}, 'name': ['Mcculloch Intermediate School', 'Bradfield Elementary School', 'Highland Park Middle School', 'Highland Park High School']}]\",\n",
       "       \"[{'rating': ['4/10', '5/10', '5/10'], 'data': {'Distance': ['5.96mi', '3.25mi', '3.03mi'], 'Grades': ['7-8', '9-12', 'PK-6']}, 'name': ['Southwest Middle School', 'Bayside High School', 'Westside Elementary School']}]\"],\n",
       "      dtype=object)"
      ]
     },
     "execution_count": 45,
     "metadata": {},
     "output_type": "execute_result"
    }
   ],
   "source": [
    "# Проверим содержимое словаря\n",
    "df['schools'].unique()[:5]"
   ]
  },
  {
   "cell_type": "code",
   "execution_count": 46,
   "metadata": {},
   "outputs": [],
   "source": [
    "# Рассчитаем средний рейтинг\n",
    "def rating_calc(rating):\n",
    "    rating = rating[0].replace('/10', '')\n",
    "    find_numbers = [float(el) for el in rating if el.isdigit()]\n",
    "    rating_avg = np.average(find_numbers) if find_numbers else -1\n",
    "    return round(rating_avg, 1)\n",
    "\n",
    "school_rating = (df['schools'].str.findall(r\"\\brating': ([\\s\\S]+?), 'data\\b\").apply(lambda x: rating_calc(x)))\n",
    "\n",
    "# Создание нового признака school_rating\n",
    "df['school_rating'] = school_rating"
   ]
  },
  {
   "cell_type": "code",
   "execution_count": 47,
   "metadata": {},
   "outputs": [],
   "source": [
    "# Рассчитаем минимальное расстояние до школы\n",
    "min_distance = df['schools'].str.findall(r\"\\bDistance': ([\\s\\S]+?), 'Grades\\b\")\n",
    "# Выбираем первый элемент из каждого списка\n",
    "min_distance = min_distance.apply(lambda x: x[0])\n",
    "# Удаляем буквенные символы из каждой строки\n",
    "min_distance = min_distance.str.replace('[a-zA-Z]','', regex=True)\n",
    "# Ищем все числа в каждой строке\n",
    "min_distance = min_distance.str.findall(r'\\b([0-9]+.[0-9]+)')\n",
    "# Преобразуем в float\n",
    "min_distance = min_distance.apply(lambda x: [float(i) for i in x])\n",
    "# Находим минимальное расстояние. Если список пустой, то -1 \n",
    "school_distance = min_distance.apply(lambda x: -1 if len(x)==0 else min(x))\n",
    "\n",
    "# Создаем признак school_distance\n",
    "df['school_distance'] = school_distance\n",
    "\n",
    "# Удаляем отработанный столбец\n",
    "df.drop(['schools'], axis=1, inplace=True)"
   ]
  },
  {
   "cell_type": "markdown",
   "metadata": {},
   "source": [
    "Признак **'sqft'** показывает значение площади объекта недвижимости и содержит 11% пропусков. Заменим пропуски медианными значениями для каждого типа недвижимости."
   ]
  },
  {
   "cell_type": "code",
   "execution_count": 48,
   "metadata": {},
   "outputs": [],
   "source": [
    "# Функция для выделения площади жилья\n",
    "def sqft_value(arg):\n",
    "    if (arg is np.NaN) or (arg is None):\n",
    "        result = np.NaN  # если строка пустая, сохраним NaN\n",
    "    else:\n",
    "        result = re.findall(r'(\\d+)', arg) # выделяем квадратные футы\n",
    "        if len(result) > 0:\n",
    "            result = result[0] # если они найдены, сохраняем их\n",
    "        else:\n",
    "            result = np.NaN # если не найдены, вернем NaN\n",
    "\n",
    "    # Возвращаем результат в виде float\n",
    "    return result"
   ]
  },
  {
   "cell_type": "code",
   "execution_count": 49,
   "metadata": {},
   "outputs": [],
   "source": [
    "# Избавимся от запятых, отделяющих тысячные разряды\n",
    "df['sqft'] = df['sqft'].str.replace(',', '')\n",
    "\n",
    "# Воспользуемся функцией, чтобы выделить квадратные футы\n",
    "df['sqft'] = df['sqft'].apply(sqft_value).astype(float)"
   ]
  },
  {
   "cell_type": "code",
   "execution_count": 50,
   "metadata": {},
   "outputs": [
    {
     "data": {
      "image/png": "[encoded data removed]",
      "text/plain": [
       "<Figure size 640x480 with 1 Axes>"
      ]
     },
     "metadata": {},
     "output_type": "display_data"
    }
   ],
   "source": [
    "# Вычислим медианное значение площади для разных типов недвижимости\n",
    "median_sqft = df.groupby('propertyType')['sqft'].median().sort_values()\n",
    "\n",
    "# Отобразим медианы в виде диаграммы\n",
    "barplot = sns.barplot(\n",
    "    data = median_sqft.to_frame().reset_index(),\n",
    "    y = 'sqft',\n",
    "    x = 'propertyType'\n",
    ");\n",
    "barplot.set_title('Медианное значение площади недвижимости');\n",
    "barplot.set_xlabel('Тип недвижимости');\n",
    "barplot.set_ylabel('Площадь недвижимости');\n",
    "barplot.set_xticklabels(barplot.get_xticklabels(), rotation=45);"
   ]
  },
  {
   "cell_type": "code",
   "execution_count": 51,
   "metadata": {},
   "outputs": [
    {
     "name": "stdout",
     "output_type": "stream",
     "text": [
      "Осталось пропусков в признаке sqft: 0\n"
     ]
    }
   ],
   "source": [
    "# Заполняем пропуски медианой\n",
    "for el in median_sqft.index:\n",
    "    mask1 = df['propertyType'] == el # маска по типу недвижимости\n",
    "    mask2 = df['sqft'].isna() == True # маска по пропускам в sqft\n",
    "    ind = df[mask1 & mask2]['sqft'].index # сохраняем индекс\n",
    "    df.loc[ind, 'sqft'] = median_sqft[el] # приcваиваем медиану\n",
    "\n",
    "# Проверяем, что все пропуски заполнены\n",
    "print('Осталось пропусков в признаке sqft:', df['sqft'].isna().sum())"
   ]
  },
  {
   "cell_type": "markdown",
   "metadata": {},
   "source": [
    "Признак **'zipcode'** не содержит пропусков, однако также нуждается в очистке от некорректных значений."
   ]
  },
  {
   "cell_type": "code",
   "execution_count": 52,
   "metadata": {},
   "outputs": [
    {
     "data": {
      "text/plain": [
       "array(['--', '0', '00000', '02108', '02109', '02110', '02111', '02113',\n",
       "       '02114', '02115', '02116', '02118', '02119', '02120', '02121',\n",
       "       '02122', '02124', '02125', '02126', '02127', '02128', '02129',\n",
       "       '02130', '02131', '02132', '02134', '02135', '02136', '02199',\n",
       "       '02210', '02215', '02467', '04666', '04901', '04937', '04957',\n",
       "       '04963', '05345', '05441', '05441-4400'], dtype=object)"
      ]
     },
     "metadata": {},
     "output_type": "display_data"
    }
   ],
   "source": [
    "# Посмотрим данные столбца 'zipcode'\n",
    "display(df['zipcode'].sort_values().unique()[:40])"
   ]
  },
  {
   "cell_type": "code",
   "execution_count": 53,
   "metadata": {},
   "outputs": [],
   "source": [
    "# Фильтр по некорректным значениям\n",
    "zipcode_mask = df[(df['zipcode']=='--') | (df['zipcode']=='0')| (df['zipcode']=='00000')].index\n",
    "\n",
    "# Удалим строки\n",
    "df = df.drop(zipcode_mask)\n",
    "\n",
    "# Отбросим часть индекса после дефиса\n",
    "df['zipcode'] = df['zipcode'].str.replace(\"-.+\",'', regex=True)"
   ]
  },
  {
   "cell_type": "code",
   "execution_count": 54,
   "metadata": {},
   "outputs": [
    {
     "data": {
      "text/plain": [
       "array(['02108', '02109', '02110', '02111', '02113', '02114', '02115',\n",
       "       '02116', '02118', '02119', '02120', '02121', '02122', '02124',\n",
       "       '02125', '02126', '02127', '02128', '02129', '02130', '02131',\n",
       "       '02132', '02134', '02135', '02136', '02199', '02210', '02215',\n",
       "       '02467', '04666', '04901', '04937', '04957', '04963', '05345',\n",
       "       '05441', '05443', '05444', '05445', '05448'], dtype=object)"
      ]
     },
     "metadata": {},
     "output_type": "display_data"
    },
    {
     "name": "stdout",
     "output_type": "stream",
     "text": [
      "Количество пропусков в признаке zipcode: 0\n"
     ]
    }
   ],
   "source": [
    "# Проверка данных\n",
    "display(df['zipcode'].sort_values().unique()[:40])\n",
    "\n",
    "# Проверка пропусков\n",
    "print('Количество пропусков в признаке zipcode:', df['zipcode'].isna().sum())"
   ]
  },
  {
   "cell_type": "markdown",
   "metadata": {},
   "source": [
    "Признак **'beds'** показывает количество спален в объекте недвижимости и содержит 24% пропусков. Заменим пропуски медианными значениями для каждого типа недвижимости."
   ]
  },
  {
   "cell_type": "code",
   "execution_count": 55,
   "metadata": {},
   "outputs": [
    {
     "name": "stdout",
     "output_type": "stream",
     "text": [
      "Доля пустых значений в признаке beds: 29.25%\n"
     ]
    }
   ],
   "source": [
    "# Функция для определения количества спален\n",
    "def count_beds(arg):\n",
    "    if arg is np.NaN:\n",
    "        result = np.NaN  # если строка пустая, присвоим NaN\n",
    "    elif arg.isdigit():\n",
    "        result = arg # если в строке число спален без точки, оставляем значение\n",
    "    else:\n",
    "        result = re.findall(r'(\\d+)\\s+[Bb]ed', arg) # извлекаем число спален из формата ХХ Beds\n",
    "        if len(result) > 0:\n",
    "            result = result[0]\n",
    "        else:\n",
    "            result = re.findall(r'(\\d+)\\.*\\d*\\s+bd', arg) # извлекаем число спален из формата Х.Х bd\n",
    "            if len(result) > 0:\n",
    "                result = result[0]\n",
    "            else:\n",
    "                result = re.findall(r'(\\d+)\\.', arg) # извлекаем число спален из формата ХХ.Х\n",
    "                if len(result) > 0:\n",
    "                    result = result[0]\n",
    "                else:\n",
    "                    result = np.NaN # если текст без указания количества, то присвиваем NaN\n",
    "\n",
    "    # Возвращаем число спален в формате float\n",
    "    return float(result)\n",
    "\n",
    "# Применяем написанную функцию для выделения числа спален\n",
    "df['beds'] = df['beds'].apply(count_beds)\n",
    "\n",
    "# Проверяем долю пустых значений\n",
    "print('Доля пустых значений в признаке beds: {:2.2%}'.format(df['beds'].isna().sum()/df.shape[0]))"
   ]
  },
  {
   "cell_type": "code",
   "execution_count": 56,
   "metadata": {},
   "outputs": [
    {
     "data": {
      "image/png": "[encoded data removed]",
      "text/plain": [
       "<Figure size 640x480 with 1 Axes>"
      ]
     },
     "metadata": {},
     "output_type": "display_data"
    }
   ],
   "source": [
    "# Вычислим медианное количество спален для разных типов недвижимости\n",
    "median_beds = df.groupby('propertyType')['beds'].median().sort_values()\n",
    "\n",
    "# Отобразим медианы в виде диаграммы\n",
    "barplot = sns.barplot(\n",
    "    data = median_beds.to_frame().reset_index(),\n",
    "    y = 'beds',\n",
    "    x = 'propertyType'\n",
    ");\n",
    "barplot.set_title('Медианное значение количества спален');\n",
    "barplot.set_xlabel('Тип недвижимости');\n",
    "barplot.set_ylabel('Количество спален');\n",
    "barplot.set_xticklabels(barplot.get_xticklabels(), rotation=45);"
   ]
  },
  {
   "cell_type": "code",
   "execution_count": 57,
   "metadata": {},
   "outputs": [
    {
     "name": "stdout",
     "output_type": "stream",
     "text": [
      "Осталось пропусков в признаке beds: 0\n"
     ]
    }
   ],
   "source": [
    "# Заполняем пропуски медианой\n",
    "for el in median_beds.index:\n",
    "    mask1 = df['propertyType'] == el # маска по типу недвижимости\n",
    "    mask2 = df['beds'].isna() == True # маска по пропускам в beds\n",
    "    ind = df[mask1 & mask2]['beds'].index # сохраняем индекс\n",
    "    df.loc[ind, 'beds'] = median_beds[el] # приcваиваем медиану\n",
    "\n",
    "# приводим к типу int\n",
    "df['beds'] = df['beds'].astype(int)\n",
    "\n",
    "# Проверяем, что все пропуски заполнены\n",
    "print('Осталось пропусков в признаке beds:', df['beds'].isna().sum())"
   ]
  },
  {
   "cell_type": "markdown",
   "metadata": {},
   "source": [
    "Признак **'state'** не содержит пропусков, все значения указаны в едином формате, следовательно предобработка не требуется."
   ]
  },
  {
   "cell_type": "code",
   "execution_count": 58,
   "metadata": {},
   "outputs": [
    {
     "data": {
      "text/plain": [
       "array(['NC', 'WA', 'CA', 'TX', 'FL', 'PA', 'TN', 'IA', 'NY', 'OR', 'DC',\n",
       "       'NV', 'AZ', 'GA', 'IL', 'NJ', 'MA', 'OH', 'IN', 'UT', 'MI', 'VT',\n",
       "       'MD', 'CO', 'VA', 'KY', 'MO', 'WI', 'ME', 'MS', 'OK', 'SC', 'MT',\n",
       "       'DE', 'Fl', 'AL', 'OT'], dtype=object)"
      ]
     },
     "execution_count": 58,
     "metadata": {},
     "output_type": "execute_result"
    }
   ],
   "source": [
    "df['state'].unique()"
   ]
  },
  {
   "cell_type": "markdown",
   "metadata": {},
   "source": [
    "Признак **'stories'** показывает количество этажей объекта недвижимости и содержит 40% пропусков. Заменим пропуски медианными значениями для каждого типа недвижимости."
   ]
  },
  {
   "cell_type": "code",
   "execution_count": 59,
   "metadata": {},
   "outputs": [
    {
     "name": "stdout",
     "output_type": "stream",
     "text": [
      "Доля пустых значений в признаке stories: 43.45%\n"
     ]
    }
   ],
   "source": [
    "# Функция для определения числа этажей\n",
    "def count_stories(arg):\n",
    "    if arg is np.NaN:\n",
    "        result = np.NaN  # если строка пустая, присваиваем NaN\n",
    "    elif arg.isdigit():\n",
    "        result = arg # если в строке число этажей без точки, оставляем значение    \n",
    "    else:\n",
    "        result = re.findall(r'(\\w+)\\+*\\s[Sstor]', arg) # выделяем число этажей из строки со словом Stor\n",
    "        if len(result) > 0:\n",
    "            result = result[0] # если этаж был во входной строке, сохраняем его в формате строки\n",
    "        else:\n",
    "            result = re.findall(r'(\\d+)\\.', arg) # извлекаем число этажей из формата Х.Х\n",
    "            if len(result) > 0:\n",
    "                result = result[0] # если этаж был во входной строке, сохраняем его в виде числа\n",
    "            else:\n",
    "                result = np.NaN # если этажа не было, вернем NaN\n",
    "\n",
    "    # Возвращаем результат в виде строки или float, если это NaN\n",
    "    return result\n",
    "\n",
    "# Применяем написанную функцию для выделения числа этажей\n",
    "df['stories'] = df['stories'].apply(count_stories)\n",
    "\n",
    "# Проверяем долю пустых значений\n",
    "print('Доля пустых значений в признаке stories: {:2.2%}'.format(df['stories'].isna().sum()/df.shape[0]))"
   ]
  },
  {
   "cell_type": "code",
   "execution_count": 60,
   "metadata": {},
   "outputs": [],
   "source": [
    "# Проверяем полученные значения\n",
    "df['stories'].unique()\n",
    "\n",
    "# Производим замену строковых значений на числовые\n",
    "df['stories'] = df['stories'].replace(['One'], 1)\n",
    "df['stories'] = df['stories'].replace(['Two'], 2)\n",
    "df['stories'] = df['stories'].replace(['Three', 'More'], 3)\n",
    "df['stories'] = df['stories'].replace(['Dwelling', 'Manufactured', 'Other'], np.NaN)"
   ]
  },
  {
   "cell_type": "code",
   "execution_count": 61,
   "metadata": {},
   "outputs": [
    {
     "data": {
      "image/png": "[encoded data removed]",
      "text/plain": [
       "<Figure size 640x480 with 1 Axes>"
      ]
     },
     "metadata": {},
     "output_type": "display_data"
    }
   ],
   "source": [
    "# Вычислим медианное количество спален для разных типов недвижимости\n",
    "median_stories = df.groupby('propertyType')['stories'].median().sort_values()\n",
    "\n",
    "# Отобразим медианы в виде диаграммы\n",
    "barplot = sns.barplot(\n",
    "    data = median_stories.to_frame().reset_index(),\n",
    "    y = 'stories',\n",
    "    x = 'propertyType'\n",
    ");\n",
    "barplot.set_title('Медианное значение количества этажей');\n",
    "barplot.set_xlabel('Тип недвижимости');\n",
    "barplot.set_ylabel('Количество этажей');\n",
    "barplot.set_xticklabels(barplot.get_xticklabels(), rotation=45);"
   ]
  },
  {
   "cell_type": "code",
   "execution_count": 62,
   "metadata": {},
   "outputs": [
    {
     "name": "stdout",
     "output_type": "stream",
     "text": [
      "Осталось пропусков в признаке stories: 0\n"
     ]
    }
   ],
   "source": [
    "# Заполняем пропуски медианой\n",
    "for el in median_stories.index:\n",
    "    mask1 = df['propertyType'] == el # маска по типу недвижимости\n",
    "    mask2 = df['stories'].isna() == True # маска по пропускам в stories\n",
    "    ind = df[mask1 & mask2]['stories'].index # сохраняем индекс\n",
    "    df.loc[ind, 'stories'] = median_stories[el] # приcваиваем медиану\n",
    "\n",
    "# Приводим к типу int\n",
    "df['stories'] = df['stories'].astype(int)\n",
    "\n",
    "# Проверяем, что все пропуски заполнены\n",
    "print('Осталось пропусков в признаке stories:', df['stories'].isna().sum())"
   ]
  },
  {
   "cell_type": "code",
   "execution_count": 63,
   "metadata": {},
   "outputs": [
    {
     "data": {
      "text/plain": [
       "array([   1,    2,    3,    4,    0,    9,   14,    5,    7,   15,   22,\n",
       "          6,   54,   23,    8,   16,   18,   21,   12,   11,   28,   17,\n",
       "         63,   27,   19,   20,   13,   51,   31,   46,   70,   25,   33,\n",
       "         10,   95,   90,   91,   35,   24,   38,   26,   30,   36,   42,\n",
       "         45,   29,   55,   78,   56,   47,   40,   43,   80,   34,   32,\n",
       "         57,   41,   39,   64,   48,   58,   52,   37,   50,   44,   68,\n",
       "         60,   77,   75,   66,   62,   82,   49, 1120, 1002,   96,   65])"
      ]
     },
     "execution_count": 63,
     "metadata": {},
     "output_type": "execute_result"
    }
   ],
   "source": [
    "df['stories'] = df['stories'].astype(int)\n",
    "df['stories'].unique()"
   ]
  },
  {
   "cell_type": "code",
   "execution_count": 64,
   "metadata": {},
   "outputs": [
    {
     "name": "stdout",
     "output_type": "stream",
     "text": [
      "<class 'pandas.core.frame.DataFrame'>\n",
      "Int64Index: 374586 entries, 0 to 377184\n",
      "Data columns (total 18 columns):\n",
      " #   Column                Non-Null Count   Dtype  \n",
      "---  ------                --------------   -----  \n",
      " 0   status                374586 non-null  object \n",
      " 1   propertyType          374586 non-null  object \n",
      " 2   baths                 374586 non-null  int32  \n",
      " 3   city                  374586 non-null  object \n",
      " 4   sqft                  374586 non-null  float64\n",
      " 5   zipcode               374586 non-null  object \n",
      " 6   beds                  374586 non-null  int32  \n",
      " 7   state                 374586 non-null  object \n",
      " 8   stories               374586 non-null  int32  \n",
      " 9   target                374586 non-null  object \n",
      " 10  private_pool_bool     374586 non-null  bool   \n",
      " 11  fireplace_bool        374586 non-null  bool   \n",
      " 12  last_renovation_year  374586 non-null  int64  \n",
      " 13  heating_bool          374586 non-null  bool   \n",
      " 14  cooling_bool          374586 non-null  bool   \n",
      " 15  parking_bool          374586 non-null  bool   \n",
      " 16  school_rating         374586 non-null  float64\n",
      " 17  school_distance       374586 non-null  float64\n",
      "dtypes: bool(5), float64(3), int32(3), int64(1), object(6)\n",
      "memory usage: 45.6+ MB\n"
     ]
    }
   ],
   "source": [
    "# Проверяем признаки\n",
    "df.info()"
   ]
  },
  {
   "cell_type": "markdown",
   "metadata": {},
   "source": [
    "Целевой признак **'target'** необходимо очистить от символов и привести к числовому выражению."
   ]
  },
  {
   "cell_type": "code",
   "execution_count": 65,
   "metadata": {},
   "outputs": [
    {
     "data": {
      "text/plain": [
       "array(['$418,000', '$310,000', '$2,895,000', '$2,395,000', '$5,000',\n",
       "       '$209,000', '181,500', '68,000', '$244,900', '$311,995',\n",
       "       '$669,000', '260,000', '$525,000', '$499,900', '$168,800',\n",
       "       '1,650,000', '335,000', '2,650,000', '$365,000', '$626,000'],\n",
       "      dtype=object)"
      ]
     },
     "execution_count": 65,
     "metadata": {},
     "output_type": "execute_result"
    }
   ],
   "source": [
    "# Проверяем значения\n",
    "df['target'].unique()[:20]"
   ]
  },
  {
   "cell_type": "code",
   "execution_count": 66,
   "metadata": {},
   "outputs": [],
   "source": [
    "# Очищаем признак target\n",
    "df['target'] = df['target'].str.replace('$', '', regex=False)\n",
    "df['target'] = df['target'].str.replace(',', '', regex=False)\n",
    "df['target'] = df['target'].str.replace('+', '', regex=False)"
   ]
  },
  {
   "cell_type": "markdown",
   "metadata": {},
   "source": [
    "Целевой признак содержит значения стоимости недвижимости за месяц (/mo), что указывает не на продажу, а на аренду. Данные строки не могут быть использованы для нашей модели прогнозирования, следовательно подлежат удалению."
   ]
  },
  {
   "cell_type": "code",
   "execution_count": 67,
   "metadata": {},
   "outputs": [
    {
     "data": {
      "text/html": [
       "<div>\n",
       "<style scoped>\n",
       "    .dataframe tbody tr th:only-of-type {\n",
       "        vertical-align: middle;\n",
       "    }\n",
       "\n",
       "    .dataframe tbody tr th {\n",
       "        vertical-align: top;\n",
       "    }\n",
       "\n",
       "    .dataframe thead th {\n",
       "        text-align: right;\n",
       "    }\n",
       "</style>\n",
       "<table border=\"1\" class=\"dataframe\">\n",
       "  <thead>\n",
       "    <tr style=\"text-align: right;\">\n",
       "      <th></th>\n",
       "      <th>status</th>\n",
       "      <th>propertyType</th>\n",
       "      <th>baths</th>\n",
       "      <th>city</th>\n",
       "      <th>sqft</th>\n",
       "      <th>zipcode</th>\n",
       "      <th>beds</th>\n",
       "      <th>state</th>\n",
       "      <th>stories</th>\n",
       "      <th>target</th>\n",
       "      <th>private_pool_bool</th>\n",
       "      <th>fireplace_bool</th>\n",
       "      <th>last_renovation_year</th>\n",
       "      <th>heating_bool</th>\n",
       "      <th>cooling_bool</th>\n",
       "      <th>parking_bool</th>\n",
       "      <th>school_rating</th>\n",
       "      <th>school_distance</th>\n",
       "    </tr>\n",
       "  </thead>\n",
       "  <tbody>\n",
       "    <tr>\n",
       "      <th>547</th>\n",
       "      <td>Other</td>\n",
       "      <td>Single Family Home</td>\n",
       "      <td>3</td>\n",
       "      <td>chicago</td>\n",
       "      <td>3300.0</td>\n",
       "      <td>60618</td>\n",
       "      <td>4</td>\n",
       "      <td>IL</td>\n",
       "      <td>1</td>\n",
       "      <td>5500/mo</td>\n",
       "      <td>False</td>\n",
       "      <td>True</td>\n",
       "      <td>1913</td>\n",
       "      <td>True</td>\n",
       "      <td>False</td>\n",
       "      <td>True</td>\n",
       "      <td>2.3</td>\n",
       "      <td>0.13</td>\n",
       "    </tr>\n",
       "    <tr>\n",
       "      <th>609</th>\n",
       "      <td>Other</td>\n",
       "      <td>Multi Family Home</td>\n",
       "      <td>2</td>\n",
       "      <td>boston</td>\n",
       "      <td>1673.0</td>\n",
       "      <td>2116</td>\n",
       "      <td>2</td>\n",
       "      <td>MA</td>\n",
       "      <td>2</td>\n",
       "      <td>10500/mo</td>\n",
       "      <td>False</td>\n",
       "      <td>True</td>\n",
       "      <td>1985</td>\n",
       "      <td>False</td>\n",
       "      <td>False</td>\n",
       "      <td>False</td>\n",
       "      <td>-1.0</td>\n",
       "      <td>-1.00</td>\n",
       "    </tr>\n",
       "    <tr>\n",
       "      <th>2075</th>\n",
       "      <td>Other</td>\n",
       "      <td>Single Family Home</td>\n",
       "      <td>4</td>\n",
       "      <td>fort lauderdale</td>\n",
       "      <td>2400.0</td>\n",
       "      <td>33308</td>\n",
       "      <td>4</td>\n",
       "      <td>FL</td>\n",
       "      <td>1</td>\n",
       "      <td>6390/mo</td>\n",
       "      <td>True</td>\n",
       "      <td>False</td>\n",
       "      <td>1965</td>\n",
       "      <td>False</td>\n",
       "      <td>False</td>\n",
       "      <td>False</td>\n",
       "      <td>4.0</td>\n",
       "      <td>1.19</td>\n",
       "    </tr>\n",
       "    <tr>\n",
       "      <th>3025</th>\n",
       "      <td>Other</td>\n",
       "      <td>Multi Family Home</td>\n",
       "      <td>2</td>\n",
       "      <td>clarksville</td>\n",
       "      <td>1280.0</td>\n",
       "      <td>37040</td>\n",
       "      <td>2</td>\n",
       "      <td>TN</td>\n",
       "      <td>2</td>\n",
       "      <td>1200/mo</td>\n",
       "      <td>False</td>\n",
       "      <td>False</td>\n",
       "      <td>2014</td>\n",
       "      <td>True</td>\n",
       "      <td>False</td>\n",
       "      <td>False</td>\n",
       "      <td>8.0</td>\n",
       "      <td>0.68</td>\n",
       "    </tr>\n",
       "    <tr>\n",
       "      <th>3645</th>\n",
       "      <td>Other</td>\n",
       "      <td>Multi Family Home</td>\n",
       "      <td>2</td>\n",
       "      <td>chicago</td>\n",
       "      <td>1473.0</td>\n",
       "      <td>60611</td>\n",
       "      <td>2</td>\n",
       "      <td>IL</td>\n",
       "      <td>2</td>\n",
       "      <td>3600/mo</td>\n",
       "      <td>True</td>\n",
       "      <td>False</td>\n",
       "      <td>2003</td>\n",
       "      <td>False</td>\n",
       "      <td>False</td>\n",
       "      <td>True</td>\n",
       "      <td>5.5</td>\n",
       "      <td>0.72</td>\n",
       "    </tr>\n",
       "  </tbody>\n",
       "</table>\n",
       "</div>"
      ],
      "text/plain": [
       "     status        propertyType  baths             city    sqft zipcode  beds  \\\n",
       "547   Other  Single Family Home      3          chicago  3300.0   60618     4   \n",
       "609   Other   Multi Family Home      2           boston  1673.0    2116     2   \n",
       "2075  Other  Single Family Home      4  fort lauderdale  2400.0   33308     4   \n",
       "3025  Other   Multi Family Home      2      clarksville  1280.0   37040     2   \n",
       "3645  Other   Multi Family Home      2          chicago  1473.0   60611     2   \n",
       "\n",
       "     state  stories    target  private_pool_bool  fireplace_bool  \\\n",
       "547     IL        1   5500/mo              False            True   \n",
       "609     MA        2  10500/mo              False            True   \n",
       "2075    FL        1   6390/mo               True           False   \n",
       "3025    TN        2   1200/mo              False           False   \n",
       "3645    IL        2   3600/mo               True           False   \n",
       "\n",
       "      last_renovation_year  heating_bool  cooling_bool  parking_bool  \\\n",
       "547                   1913          True         False          True   \n",
       "609                   1985         False         False         False   \n",
       "2075                  1965         False         False         False   \n",
       "3025                  2014          True         False         False   \n",
       "3645                  2003         False         False          True   \n",
       "\n",
       "      school_rating  school_distance  \n",
       "547             2.3             0.13  \n",
       "609            -1.0            -1.00  \n",
       "2075            4.0             1.19  \n",
       "3025            8.0             0.68  \n",
       "3645            5.5             0.72  "
      ]
     },
     "execution_count": 67,
     "metadata": {},
     "output_type": "execute_result"
    }
   ],
   "source": [
    "# Проверка наличия объектов с помесячной стоимостью\n",
    "df[df.target.str.contains('/mo',regex=True)].head()"
   ]
  },
  {
   "cell_type": "code",
   "execution_count": 68,
   "metadata": {},
   "outputs": [
    {
     "data": {
      "text/plain": [
       "'Количество строк с помесячной стоимостью: 398'"
      ]
     },
     "metadata": {},
     "output_type": "display_data"
    },
    {
     "data": {
      "text/plain": [
       "'0.11% строк содержат стоимость недвижимости за месяц'"
      ]
     },
     "metadata": {},
     "output_type": "display_data"
    }
   ],
   "source": [
    "# Определяем количество строк с помесячной стоимостью\n",
    "rent_objects = df['target'].str.contains('/mo',regex=True).sum()\n",
    "display(f'Количество строк с помесячной стоимостью: {rent_objects}')\n",
    "\n",
    "# Определяем % строк с помесячной стоимостью\n",
    "display('{}% строк содержат стоимость недвижимости за месяц'.format(round(rent_objects/df.shape[0]*100, 2)))"
   ]
  },
  {
   "cell_type": "code",
   "execution_count": 69,
   "metadata": {},
   "outputs": [],
   "source": [
    "# Удаляем найденные строки\n",
    "df = df[~df['target'].str.contains('/mo', regex=True)]\n",
    "\n",
    "# Приводим значения к типу int\n",
    "df['target'] = df['target'].astype(int)"
   ]
  },
  {
   "cell_type": "code",
   "execution_count": 70,
   "metadata": {},
   "outputs": [
    {
     "name": "stdout",
     "output_type": "stream",
     "text": [
      "<class 'pandas.core.frame.DataFrame'>\n",
      "Int64Index: 374188 entries, 0 to 377184\n",
      "Data columns (total 18 columns):\n",
      " #   Column                Non-Null Count   Dtype  \n",
      "---  ------                --------------   -----  \n",
      " 0   status                374188 non-null  object \n",
      " 1   propertyType          374188 non-null  object \n",
      " 2   baths                 374188 non-null  int32  \n",
      " 3   city                  374188 non-null  object \n",
      " 4   sqft                  374188 non-null  float64\n",
      " 5   zipcode               374188 non-null  object \n",
      " 6   beds                  374188 non-null  int32  \n",
      " 7   state                 374188 non-null  object \n",
      " 8   stories               374188 non-null  int32  \n",
      " 9   target                374188 non-null  int32  \n",
      " 10  private_pool_bool     374188 non-null  bool   \n",
      " 11  fireplace_bool        374188 non-null  bool   \n",
      " 12  last_renovation_year  374188 non-null  int64  \n",
      " 13  heating_bool          374188 non-null  bool   \n",
      " 14  cooling_bool          374188 non-null  bool   \n",
      " 15  parking_bool          374188 non-null  bool   \n",
      " 16  school_rating         374188 non-null  float64\n",
      " 17  school_distance       374188 non-null  float64\n",
      "dtypes: bool(5), float64(3), int32(4), int64(1), object(5)\n",
      "memory usage: 36.0+ MB\n"
     ]
    }
   ],
   "source": [
    "# Проверяем наличие пропусков в признаках\n",
    "df.info()"
   ]
  },
  {
   "cell_type": "code",
   "execution_count": 71,
   "metadata": {},
   "outputs": [
    {
     "data": {
      "text/plain": [
       "'Количество полных дубликтов в таблице составляет: 5219'"
      ]
     },
     "metadata": {},
     "output_type": "display_data"
    },
    {
     "data": {
      "text/plain": [
       "(368969, 18)"
      ]
     },
     "execution_count": 71,
     "metadata": {},
     "output_type": "execute_result"
    }
   ],
   "source": [
    "# После предварительной очистки повторно произведем поиск и удаление полных дубликатов\n",
    "mask = df.duplicated()\n",
    "df_duplicates = df[mask]\n",
    "display(f\"Количество полных дубликтов в таблице составляет: {df_duplicates.shape[0]}\")\n",
    "df.drop_duplicates(inplace=True)\n",
    "df.shape"
   ]
  },
  {
   "cell_type": "markdown",
   "metadata": {},
   "source": [
    "Пропусков и дубликатов в признаках не осталось. Таким образом, можно переходить дальнейшей обработке данных на этапе разведывательного анализа. "
   ]
  },
  {
   "cell_type": "code",
   "execution_count": 72,
   "metadata": {},
   "outputs": [],
   "source": [
    "# Cохраняем обработанные данные в CSV-файл\n",
    "df.to_csv(\"data/data_cleaned.csv\", index=False)"
   ]
  }
 ],
 "metadata": {
  "kernelspec": {
   "display_name": "Python 3",
   "language": "python",
   "name": "python3"
  },
  "language_info": {
   "codemirror_mode": {
    "name": "ipython",
    "version": 3
   },
   "file_extension": ".py",
   "mimetype": "text/x-python",
   "name": "python",
   "nbconvert_exporter": "python",
   "pygments_lexer": "ipython3",
   "version": "3.11.3"
  }
 },
 "nbformat": 4,
 "nbformat_minor": 2
}
