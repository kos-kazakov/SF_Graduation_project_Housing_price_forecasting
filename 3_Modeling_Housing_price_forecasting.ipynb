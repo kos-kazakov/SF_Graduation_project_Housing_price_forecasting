{
 "cells": [
  {
   "cell_type": "markdown",
   "metadata": {},
   "source": [
    "# Skillfactory. Курс \"Специализация Data Science\"\n",
    "## Дипломный проект. Учебный кейс «Модель прогнозирования стоимости жилья для агентства недвижимости»"
   ]
  },
  {
   "cell_type": "markdown",
   "metadata": {},
   "source": [
    "**Описание признаков в обработанном наборе данных:**\n",
    "- 'status_ХХХ' — статус продажи\n",
    "- 'propertyType_ХХХ' — тип объекта недвижимости\n",
    "- 'baths' — количество ванных комнат\n",
    "- 'sqft' — площадь в футах\n",
    "- 'zipcode_label' — почтовый индекс\n",
    "- 'beds' — количество спален\n",
    "- 'state_label' — штат\n",
    "- 'stories' — количество этажей\n",
    "- 'private_pool_bool' - наличие бассейна\n",
    "- 'fireplace_bool' — наличие камина\n",
    "- 'last_renovation_year' - год постройки либо последней модернизации объекта\n",
    "- 'heating_bool' - наличие системы отопления\n",
    "- 'cooling_bool' - наличие системы кондиционирования\n",
    "- 'parking_bool' - наличие парковки\n",
    "- 'school_rating' - средний рейтинг школ вблизи объекта недвижимости\n",
    "- 'school_distance' - минимальное рассотояние до школы от объекта недвижимости\n",
    "____________________________\n",
    "- **'target'** — цена объекта недвижимости (целевой признак, который необходимо спрогнозировать)"
   ]
  },
  {
   "cell_type": "code",
   "execution_count": 4,
   "metadata": {},
   "outputs": [],
   "source": [
    "import numpy as np \n",
    "import pandas as pd\n",
    "\n",
    "import matplotlib.pyplot as plt\n",
    "import seaborn as sns\n",
    "\n",
    "from sklearn.model_selection import train_test_split, RandomizedSearchCV\n",
    "from sklearn.linear_model import LinearRegression, Ridge, Lasso\n",
    "from sklearn.preprocessing import PolynomialFeatures\n",
    "from sklearn.ensemble import RandomForestRegressor, GradientBoostingRegressor\n",
    "from sklearn.tree import DecisionTreeRegressor\n",
    "from sklearn.metrics import mean_absolute_error, mean_absolute_percentage_error, mean_squared_error, r2_score\n",
    "from catboost import CatBoostRegressor\n",
    "import pickle"
   ]
  },
  {
   "cell_type": "code",
   "execution_count": 5,
   "metadata": {},
   "outputs": [
    {
     "name": "stdout",
     "output_type": "stream",
     "text": [
      "<class 'pandas.core.frame.DataFrame'>\n",
      "RangeIndex: 273718 entries, 0 to 273717\n",
      "Data columns (total 28 columns):\n",
      " #   Column                           Non-Null Count   Dtype  \n",
      "---  ------                           --------------   -----  \n",
      " 0   baths                            273718 non-null  float64\n",
      " 1   sqft                             273718 non-null  float64\n",
      " 2   beds                             273718 non-null  float64\n",
      " 3   stories                          273718 non-null  float64\n",
      " 4   target                           273718 non-null  int64  \n",
      " 5   private_pool_bool                273718 non-null  bool   \n",
      " 6   fireplace_bool                   273718 non-null  bool   \n",
      " 7   last_renovation_year             273718 non-null  float64\n",
      " 8   heating_bool                     273718 non-null  bool   \n",
      " 9   cooling_bool                     273718 non-null  bool   \n",
      " 10  parking_bool                     273718 non-null  bool   \n",
      " 11  school_rating                    273718 non-null  float64\n",
      " 12  school_distance                  273718 non-null  float64\n",
      " 13  status_Active                    273718 non-null  int64  \n",
      " 14  status_For Sale                  273718 non-null  int64  \n",
      " 15  status_Foreclosure               273718 non-null  int64  \n",
      " 16  status_New construction          273718 non-null  int64  \n",
      " 17  status_Other                     273718 non-null  int64  \n",
      " 18  status_Pending                   273718 non-null  int64  \n",
      " 19  propertyType_Condo               273718 non-null  int64  \n",
      " 20  propertyType_Land                273718 non-null  int64  \n",
      " 21  propertyType_Multi Family Home   273718 non-null  int64  \n",
      " 22  propertyType_Other               273718 non-null  int64  \n",
      " 23  propertyType_Single Family Home  273718 non-null  int64  \n",
      " 24  propertyType_Townhouse           273718 non-null  int64  \n",
      " 25  propertyType_Traditional         273718 non-null  int64  \n",
      " 26  state_label                      273718 non-null  int64  \n",
      " 27  zipcode_label                    273718 non-null  int64  \n",
      "dtypes: bool(5), float64(7), int64(16)\n",
      "memory usage: 49.3 MB\n"
     ]
    }
   ],
   "source": [
    "df = pd.read_csv('data/data_cleaned_for_model.csv')\n",
    "df.info()"
   ]
  },
  {
   "cell_type": "markdown",
   "metadata": {},
   "source": [
    "### 3. Применение алгоритмов Machine Learning и оценка качества моделей"
   ]
  },
  {
   "cell_type": "markdown",
   "metadata": {},
   "source": [
    "Для оценки качества моделирования будем использовать следующие метрики:  \n",
    "- **MAE** - средняя абсолютная ошибка. Показывает насколько в среднем число в предсказании разошлось с реальным числом.\n",
    "- **MAPE** - средняя абсолютная ошибка в процентах.\n",
    "- **RMSE** - стандартное отклонение предсказаний от истинных ответов. \n",
    "- **R2** - коэффициент детерминации. Помогает понять, какую долю разнообразия смогла уловить модель в данных. "
   ]
  },
  {
   "cell_type": "code",
   "execution_count": 6,
   "metadata": {},
   "outputs": [
    {
     "name": "stdout",
     "output_type": "stream",
     "text": [
      "(218974, 27) (54744, 27) (218974,) (54744,)\n"
     ]
    }
   ],
   "source": [
    "# Разделим датафрейм на тренировочную и тестовую выборки\n",
    "X = df.drop('target', axis=1)\n",
    "y = df['target']\n",
    "\n",
    "X_train, X_test, y_train, y_test = train_test_split(X, y,\n",
    "                                                    test_size=0.2,\n",
    "                                                    random_state=42)\n",
    "\n",
    "# Проверим размерности\n",
    "print(X_train.shape, X_test.shape, y_train.shape, y_test.shape)"
   ]
  },
  {
   "cell_type": "code",
   "execution_count": 7,
   "metadata": {},
   "outputs": [],
   "source": [
    "# Функция для расчета метрик\n",
    "def metrics_calculation(y_train, y_train_pred, y_test,y_test_pred):\n",
    "\n",
    "    # Расчитываем метрики и выводим их на экран\n",
    "    mae_train = mean_absolute_error(y_train, y_train_pred)\n",
    "    mape_train = mean_absolute_percentage_error(y_train, y_train_pred)*100\n",
    "    rmse_train = np.sqrt(mean_squared_error(y_train, y_train_pred))\n",
    "    r2_train = r2_score(y_train, y_train_pred)\n",
    "\n",
    "    mae_test = mean_absolute_error(y_test, y_test_pred)\n",
    "    mape_test = mean_absolute_percentage_error(y_test, y_test_pred)*100\n",
    "    rmse_test = np.sqrt(mean_squared_error(y_test, y_test_pred))\n",
    "    r2_test = r2_score(y_test, y_test_pred)\n",
    "\n",
    "    print('\\nMAE на тренировочной выборке: {:.2f} $'.format(mae_train))\n",
    "    print('MAPE на тренировочной выборке: {:.2f} %'.format(mape_train))\n",
    "    print('RMSE на тренировочной выборке: {:.2f} $'.format(rmse_train))\n",
    "    print('r2 на тренировочной выборке: {:.2f}'.format(r2_train))\n",
    "        \n",
    "    print('\\nMAE на тестовой выборке: {:.2f} $'.format(mae_test))\n",
    "    print('MAPE на тестовой выборке: {:.2f} %'.format(mape_test))\n",
    "    print('RMSE на тестовой выборке: {:.2f} $'.format(rmse_test))\n",
    "    print('r2 на тестовой выборке: {:.2f}'.format(r2_test))\n",
    "\n",
    "    # Полученные метрики\n",
    "    return mae_train, mape_train, rmse_train, r2_train, mae_test, mape_test, rmse_test, r2_test"
   ]
  },
  {
   "cell_type": "markdown",
   "metadata": {},
   "source": [
    "**1. Линейная регрессия Linear Regression**"
   ]
  },
  {
   "cell_type": "code",
   "execution_count": 8,
   "metadata": {},
   "outputs": [
    {
     "name": "stdout",
     "output_type": "stream",
     "text": [
      "\n",
      "MAE на тренировочной выборке: 252871.91 $\n",
      "MAPE на тренировочной выборке: 84.21 %\n",
      "RMSE на тренировочной выборке: 407214.46 $\n",
      "r2 на тренировочной выборке: 0.28\n",
      "\n",
      "MAE на тестовой выборке: 251574.87 $\n",
      "MAPE на тестовой выборке: 83.91 %\n",
      "RMSE на тестовой выборке: 402193.85 $\n",
      "r2 на тестовой выборке: 0.28\n"
     ]
    }
   ],
   "source": [
    "# Обучаем модель линейной регрессии\n",
    "linear_model = LinearRegression()\n",
    "linear_model.fit(X_train, y_train)\n",
    "\n",
    "# Выполняем предсказание\n",
    "y_train_pred = linear_model.predict(X_train)\n",
    "y_test_pred = linear_model.predict(X_test)\n",
    "\n",
    "# Выводим результаты\n",
    "_ = metrics_calculation(y_train, y_train_pred, y_test, y_test_pred)"
   ]
  },
  {
   "cell_type": "markdown",
   "metadata": {},
   "source": [
    "В результате обработки данных на этапе EDA нам удалось значительно улучшить значения метрик качества модели относительно baseline-решения. Абсолютная ошибка MAE уменьшилась более чем в 2 раза. Значения коэффициента детерминации r2 улучшены практически вдвое. Это говорит о том, что модель смогла уловить больше информации о зависимости (дисперсии) в данных. При этом не наблюдается переобучения модели, о чем свидетельствуют близкие значения метрик на тренировочной и тестовой выборках.\n",
    "\n",
    "Тем не менее, значения метрик остаются на довольно низком уровне (для r2 удовлетворительным показателем считается показатель выше 0.5). Попробуем улучшить значения метрик, применяя более сложные алгоритмы машинного обучения."
   ]
  },
  {
   "cell_type": "markdown",
   "metadata": {},
   "source": [
    "**2. Полиномиальная регрессия Polynomial Regression**\n",
    "\n",
    "Полиномиальная регрессия — это та же линейная регрессия, просто с новыми признаками.  Благодаря степенным слагаемым модель становится сложнее и начинает улавливать более сложные зависимости и выдавать меньшее смещение. Но при этом резко повышается риск переобучения модели — увеличивается разброс предсказаний на разных данных из-за количества факторов. Сгенерируем полиномиальные признаки 2-го порядка, чтобы проверить, сможет ли модель линейной регрессии лучше уловить закономерности в наших данных."
   ]
  },
  {
   "cell_type": "code",
   "execution_count": 9,
   "metadata": {},
   "outputs": [
    {
     "name": "stdout",
     "output_type": "stream",
     "text": [
      "\n",
      "MAE на тренировочной выборке: 201696.71 $\n",
      "MAPE на тренировочной выборке: 61.81 %\n",
      "RMSE на тренировочной выборке: 331737.24 $\n",
      "r2 на тренировочной выборке: 0.52\n",
      "\n",
      "MAE на тестовой выборке: 201852.69 $\n",
      "MAPE на тестовой выборке: 62.00 %\n",
      "RMSE на тестовой выборке: 329503.31 $\n",
      "r2 на тестовой выборке: 0.52\n"
     ]
    }
   ],
   "source": [
    "# Создаем объект класса PolynomialFeatures\n",
    "poly = PolynomialFeatures(degree=2, include_bias=False)\n",
    "\n",
    "# Генерируем полиномиальные признаки\n",
    "X_train_poly = poly.fit_transform(X_train)\n",
    "X_test_poly = poly.transform(X_test)\n",
    "\n",
    "# Обучим модель линейной регрессии на полиномиальных признаках\n",
    "lr_model_poly = LinearRegression()\n",
    "lr_model_poly.fit(X_train_poly, y_train)\n",
    "\n",
    "# Выполним предсказание и выведем результат\n",
    "y_train_pred = lr_model_poly.predict(X_train_poly)\n",
    "y_test_pred = lr_model_poly.predict(X_test_poly)\n",
    "\n",
    "# Выведем значеня метрик с помощью написанной функции\n",
    "_ = metrics_calculation(y_train, y_train_pred, y_test, y_test_pred)"
   ]
  },
  {
   "cell_type": "markdown",
   "metadata": {},
   "source": [
    "Как видим, линейная регрессия на полиномиальных признаках дала нам значительный прирост метрик качества - уменьшены значения MAE, MAPE, RMSE. Показатель r2 превысил значение 0.5, что является удовлетворительным уровнем, и свидетельствует о том, что наша модель на 52% лучше предсказывает результат, чем простое предсказание средним."
   ]
  },
  {
   "cell_type": "markdown",
   "metadata": {},
   "source": [
    "**3. Полиномиальная регрессия Polynomial Regression с L1-регуляризацией**\n",
    "\n",
    "Переобучения у нашей модели не наблюдается, тем не менее, попробуем провести L1-регуляризацию (Lasso) и сравнить результаты. Отличительной особенностью L1-регуляризации является то, что коэффициенты, которые соответствуют «ненужным», по мнению модели, факторам, обнуляются, то есть факторы просто не будут участвовать в предсказании. Тем самым мы уменьшим сложность модели, сократим её разброс и, как следствие, уменьшим переобучение."
   ]
  },
  {
   "cell_type": "code",
   "execution_count": 10,
   "metadata": {},
   "outputs": [
    {
     "name": "stdout",
     "output_type": "stream",
     "text": [
      "\n",
      "MAE на тренировочной выборке: 201696.29 $\n",
      "MAPE на тренировочной выборке: 61.81 %\n",
      "RMSE на тренировочной выборке: 331737.30 $\n",
      "r2 на тренировочной выборке: 0.52\n",
      "\n",
      "MAE на тестовой выборке: 201850.77 $\n",
      "MAPE на тестовой выборке: 62.00 %\n",
      "RMSE на тестовой выборке: 329501.38 $\n",
      "r2 на тестовой выборке: 0.52\n"
     ]
    },
    {
     "name": "stderr",
     "output_type": "stream",
     "text": [
      "c:\\Users\\kkaza\\AppData\\Local\\Programs\\Python\\Python311\\Lib\\site-packages\\sklearn\\linear_model\\_coordinate_descent.py:631: ConvergenceWarning: Objective did not converge. You might want to increase the number of iterations, check the scale of the features or consider increasing regularisation. Duality gap: 1.205e+16, tolerance: 5.032e+12\n",
      "  model = cd_fast.enet_coordinate_descent(\n"
     ]
    }
   ],
   "source": [
    "# создем объект Lasso регрессии\n",
    "lasso_lr_poly = Lasso(alpha = 0.1)\n",
    " \n",
    "lasso_lr_poly.fit(X_train_poly, y_train)\n",
    " \n",
    "y_train_pred_poly = lasso_lr_poly.predict(X_train_poly)\n",
    "y_test_pred_poly = lasso_lr_poly.predict(X_test_poly)\n",
    "\n",
    "# Выводим результаты\n",
    "_ = metrics_calculation(y_train, y_train_pred_poly, y_test, y_test_pred_poly)"
   ]
  },
  {
   "cell_type": "markdown",
   "metadata": {},
   "source": [
    "Как видим, регуляризация не помогла в улучшении предсказаний, метрики оказались практически идентичными рассчитанным ранее. Делаем вывод, что регуляризацию целесообразно применять в случаях, когда наблюдается переобучение модели."
   ]
  },
  {
   "cell_type": "markdown",
   "metadata": {},
   "source": [
    "**4. Дерево решений Decision Tree**\n",
    "\n",
    "Решающее дерево предсказывает значение целевой переменной с помощью применения последовательности простых решающих правил. Учитывая, что алгоритмы, основанные на деревьях решений, склонны к переобучению, нам необходимо подобрать оптимальные внешние параметры. Одним из основных параметров является **max depht** - максимально возможная длина от корня до самых дальних листьев (не включая корневую). Определим оптимальную глубину дерева и решим задачу регресии."
   ]
  },
  {
   "cell_type": "code",
   "execution_count": 11,
   "metadata": {},
   "outputs": [
    {
     "name": "stdout",
     "output_type": "stream",
     "text": [
      "\n",
      "MAE на тренировочной выборке: 196537.63 $\n",
      "MAPE на тренировочной выборке: 60.92 %\n",
      "RMSE на тренировочной выборке: 325993.32 $\n",
      "r2 на тренировочной выборке: 0.54\n",
      "\n",
      "MAE на тестовой выборке: 198455.89 $\n",
      "MAPE на тестовой выборке: 61.61 %\n",
      "RMSE на тестовой выборке: 328556.83 $\n",
      "r2 на тестовой выборке: 0.52\n",
      "\n",
      "MAE на тренировочной выборке: 186812.21 $\n",
      "MAPE на тренировочной выборке: 57.02 %\n",
      "RMSE на тренировочной выборке: 312984.79 $\n",
      "r2 на тренировочной выборке: 0.57\n",
      "\n",
      "MAE на тестовой выборке: 189964.33 $\n",
      "MAPE на тестовой выборке: 57.83 %\n",
      "RMSE на тестовой выборке: 318895.53 $\n",
      "r2 на тестовой выборке: 0.55\n",
      "\n",
      "MAE на тренировочной выборке: 176398.26 $\n",
      "MAPE на тренировочной выборке: 53.57 %\n",
      "RMSE на тренировочной выборке: 299040.98 $\n",
      "r2 на тренировочной выборке: 0.61\n",
      "\n",
      "MAE на тестовой выборке: 181650.44 $\n",
      "MAPE на тестовой выборке: 54.57 %\n",
      "RMSE на тестовой выборке: 308987.92 $\n",
      "r2 на тестовой выборке: 0.58\n",
      "\n",
      "MAE на тренировочной выборке: 166015.70 $\n",
      "MAPE на тренировочной выборке: 49.90 %\n",
      "RMSE на тренировочной выборке: 284545.22 $\n",
      "r2 на тренировочной выборке: 0.65\n",
      "\n",
      "MAE на тестовой выборке: 173202.15 $\n",
      "MAPE на тестовой выборке: 51.00 %\n",
      "RMSE на тестовой выборке: 299856.27 $\n",
      "r2 на тестовой выборке: 0.60\n",
      "\n",
      "MAE на тренировочной выборке: 155751.93 $\n",
      "MAPE на тренировочной выборке: 46.70 %\n",
      "RMSE на тренировочной выборке: 268725.71 $\n",
      "r2 на тренировочной выборке: 0.69\n",
      "\n",
      "MAE на тестовой выборке: 166242.69 $\n",
      "MAPE на тестовой выборке: 48.15 %\n",
      "RMSE на тестовой выборке: 290756.97 $\n",
      "r2 на тестовой выборке: 0.63\n",
      "\n",
      "MAE на тренировочной выборке: 145658.84 $\n",
      "MAPE на тренировочной выборке: 44.42 %\n",
      "RMSE на тренировочной выборке: 253691.20 $\n",
      "r2 на тренировочной выборке: 0.72\n",
      "\n",
      "MAE на тестовой выборке: 160594.02 $\n",
      "MAPE на тестовой выборке: 46.35 %\n",
      "RMSE на тестовой выборке: 287496.55 $\n",
      "r2 на тестовой выборке: 0.63\n",
      "\n",
      "MAE на тренировочной выборке: 135324.63 $\n",
      "MAPE на тренировочной выборке: 41.71 %\n",
      "RMSE на тренировочной выборке: 238254.44 $\n",
      "r2 на тренировочной выборке: 0.75\n",
      "\n",
      "MAE на тестовой выборке: 156172.89 $\n",
      "MAPE на тестовой выборке: 44.44 %\n",
      "RMSE на тестовой выборке: 285234.09 $\n",
      "r2 на тестовой выборке: 0.64\n",
      "\n",
      "MAE на тренировочной выборке: 124261.63 $\n",
      "MAPE на тренировочной выборке: 38.92 %\n",
      "RMSE на тренировочной выборке: 221500.68 $\n",
      "r2 на тренировочной выборке: 0.79\n",
      "\n",
      "MAE на тестовой выборке: 152002.74 $\n",
      "MAPE на тестовой выборке: 42.63 %\n",
      "RMSE на тестовой выборке: 283449.55 $\n",
      "r2 на тестовой выборке: 0.64\n",
      "\n",
      "MAE на тренировочной выборке: 113495.13 $\n",
      "MAPE на тренировочной выборке: 36.27 %\n",
      "RMSE на тренировочной выборке: 205059.47 $\n",
      "r2 на тренировочной выборке: 0.82\n",
      "\n",
      "MAE на тестовой выборке: 148850.74 $\n",
      "MAPE на тестовой выборке: 40.96 %\n",
      "RMSE на тестовой выборке: 283654.47 $\n",
      "r2 на тестовой выборке: 0.64\n",
      "\n",
      "MAE на тренировочной выборке: 102332.60 $\n",
      "MAPE на тренировочной выборке: 33.70 %\n",
      "RMSE на тренировочной выборке: 187700.66 $\n",
      "r2 на тренировочной выборке: 0.85\n",
      "\n",
      "MAE на тестовой выборке: 147289.91 $\n",
      "MAPE на тестовой выборке: 40.04 %\n",
      "RMSE на тестовой выборке: 287580.57 $\n",
      "r2 на тестовой выборке: 0.63\n",
      "\n",
      "MAE на тренировочной выборке: 91243.43 $\n",
      "MAPE на тренировочной выборке: 30.68 %\n",
      "RMSE на тренировочной выборке: 171760.89 $\n",
      "r2 на тренировочной выборке: 0.87\n",
      "\n",
      "MAE на тестовой выборке: 145154.16 $\n",
      "MAPE на тестовой выборке: 38.64 %\n",
      "RMSE на тестовой выборке: 290161.57 $\n",
      "r2 на тестовой выборке: 0.63\n",
      "\n",
      "MAE на тренировочной выборке: 80735.12 $\n",
      "MAPE на тренировочной выборке: 27.89 %\n",
      "RMSE на тренировочной выборке: 157299.83 $\n",
      "r2 на тренировочной выборке: 0.89\n",
      "\n",
      "MAE на тестовой выборке: 143064.50 $\n",
      "MAPE на тестовой выборке: 37.41 %\n",
      "RMSE на тестовой выборке: 291149.56 $\n",
      "r2 на тестовой выборке: 0.62\n",
      "\n",
      "MAE на тренировочной выборке: 70779.10 $\n",
      "MAPE на тренировочной выборке: 25.02 %\n",
      "RMSE на тренировочной выборке: 143911.33 $\n",
      "r2 на тренировочной выборке: 0.91\n",
      "\n",
      "MAE на тестовой выборке: 141227.57 $\n",
      "MAPE на тестовой выборке: 36.25 %\n",
      "RMSE на тестовой выборке: 292255.26 $\n",
      "r2 на тестовой выборке: 0.62\n"
     ]
    },
    {
     "data": {
      "image/png": "[encoded data removed]",
      "text/plain": [
       "<Figure size 800x400 with 1 Axes>"
      ]
     },
     "metadata": {},
     "output_type": "display_data"
    },
    {
     "data": {
      "image/png": "[encoded data removed]",
      "text/plain": [
       "<Figure size 800x400 with 1 Axes>"
      ]
     },
     "metadata": {},
     "output_type": "display_data"
    },
    {
     "data": {
      "image/png": "[encoded data removed]",
      "text/plain": [
       "<Figure size 800x400 with 1 Axes>"
      ]
     },
     "metadata": {},
     "output_type": "display_data"
    },
    {
     "data": {
      "image/png": "[encoded data removed]",
      "text/plain": [
       "<Figure size 800x400 with 1 Axes>"
      ]
     },
     "metadata": {},
     "output_type": "display_data"
    }
   ],
   "source": [
    "# Список значений глубины дерева\n",
    "max_depths = list(np.arange(7, 20))\n",
    "\n",
    "# Спиики для хранения значений метрик\n",
    "mae_train_values = []\n",
    "mae_test_values = []\n",
    "mape_train_values = []\n",
    "mape_test_values = []\n",
    "rmse_train_values = []\n",
    "rmse_test_values = []\n",
    "r2_train_values = []\n",
    "r2_test_values = []\n",
    "\n",
    "# Обучаем решающее дерево для каждого значения глубины и сохраняем результаты\n",
    "for depth in max_depths:\n",
    "    # Создаем объект модели решающего дерева с максимальной глубиной max_depth\n",
    "    tree_regressor = DecisionTreeRegressor(\n",
    "        max_depth = depth,\n",
    "        random_state = 42)\n",
    "\n",
    "    # Обучаем модель на тренировочной выборке\n",
    "    tree_regressor.fit(X_train, y_train)\n",
    "\n",
    "    # Получаем прогнозы на обучающей и тестовой выборках\n",
    "    y_train_pred = tree_regressor.predict(X_train)\n",
    "    y_test_pred = tree_regressor.predict(X_test)\n",
    "    \n",
    "    # Рассчитываем метрики качества\n",
    "    mae_train, mape_train, rmse_train, r2_train, mae_test, mape_test, rmse_test, r2_test\\\n",
    "        = metrics_calculation(y_train, y_train_pred, y_test, y_test_pred)\n",
    "\n",
    "    # Добавляем значения метрик в списки\n",
    "    mae_train_values.append(mae_train)\n",
    "    mae_test_values.append(mae_test)\n",
    "    mape_train_values.append(mape_train)\n",
    "    mape_test_values.append(mape_test)\n",
    "    rmse_train_values.append(rmse_train)\n",
    "    rmse_test_values.append(rmse_test)\n",
    "    r2_train_values.append(r2_train)\n",
    "    r2_test_values.append(r2_test)\n",
    "\n",
    "\n",
    "# Преобразуем получившиеся списки в датафреймы\n",
    "df_mae = pd.DataFrame(\n",
    "    data = {'Train': mae_train_values,\n",
    "            'Test': mae_test_values},\n",
    "    index = max_depths)\n",
    "\n",
    "df_mape = pd.DataFrame(\n",
    "    data = {'Train': mape_train_values,\n",
    "            'Test': mape_test_values},\n",
    "    index = max_depths)\n",
    "\n",
    "df_rmse = pd.DataFrame(\n",
    "    data = {'Train': rmse_train_values,\n",
    "            'Test': rmse_test_values},\n",
    "    index = max_depths)\n",
    "\n",
    "df_r2 = pd.DataFrame(\n",
    "    data = {'Train': r2_train_values,\n",
    "            'Test': r2_test_values},\n",
    "    index = max_depths)\n",
    "\n",
    "# Выводим график зависимости MAE\n",
    "fig = plt.figure(figsize=(8, 4))\n",
    "lineplot = sns.lineplot(\n",
    "    data = df_mae,\n",
    "    markers=[\"o\", \"o\"],\n",
    "    palette=['r', 'g']\n",
    ");\n",
    "lineplot.set_title('Зависимость MAE от глубины дерева решений');\n",
    "lineplot.set_ylabel('MAE');\n",
    "lineplot.set_xlabel('Глубина дерева');\n",
    "lineplot.legend(title ='Набор данных');\n",
    "\n",
    "# Выводим график зависимости MAPE\n",
    "fig = plt.figure(figsize=(8, 4))\n",
    "lineplot = sns.lineplot(\n",
    "    data = df_mape,\n",
    "    markers=[\"o\", \"o\"],\n",
    "    palette=['r', 'g']\n",
    ");\n",
    "lineplot.set_title('Зависимость MAPE от глубины дерева решений');\n",
    "lineplot.set_ylabel('MAPE');\n",
    "lineplot.set_xlabel('Глубина дерева');\n",
    "lineplot.legend(title ='Набор данных');\n",
    "\n",
    "# Выводим график зависимости RMSE\n",
    "fig = plt.figure(figsize=(8, 4))\n",
    "lineplot = sns.lineplot(\n",
    "    data = df_rmse,\n",
    "    markers=[\"o\", \"o\"],\n",
    "    palette=['r', 'g']\n",
    ");\n",
    "lineplot.set_title('Зависимость RMSE от глубины дерева решений');\n",
    "lineplot.set_ylabel('RMSE');\n",
    "lineplot.set_xlabel('Глубина дерева');\n",
    "lineplot.legend(title ='Набор данных');\n",
    "\n",
    "# Выводим график зависимости R2\n",
    "fig = plt.figure(figsize=(8, 4))\n",
    "lineplot = sns.lineplot(\n",
    "    data = df_r2,\n",
    "    markers=[\"o\", \"o\"],\n",
    "    palette=['r', 'g']\n",
    ");\n",
    "lineplot.set_title('Зависимость R2 от глубины дерева решений');\n",
    "lineplot.set_ylabel('R2');\n",
    "lineplot.set_xlabel('Глубина дерева');\n",
    "lineplot.legend(title ='Набор данных');"
   ]
  },
  {
   "cell_type": "markdown",
   "metadata": {},
   "source": [
    "По графикам видно, что коэффициент детерминации r2 на тестовой выборке достигает наилучших значений при глубине дерева 14-15. Аналогичным образом ведет себя показатель RMSE. Показатели MAE и MAPE плавно улучшаются с увеличением глубины. При этом на тренировочной выборке все показатели практически линейно улучшаются с увеличением глубины дерева, что свидетельствует о переобучении модели.\n",
    "\n",
    "Произведем обучение дерева решений с максимальной глубиной max_depth=15 и минимальным числом объектов в листе min_samples_leaf=8."
   ]
  },
  {
   "cell_type": "code",
   "execution_count": 14,
   "metadata": {},
   "outputs": [
    {
     "name": "stdout",
     "output_type": "stream",
     "text": [
      "MAE: 148850.74 $\n",
      "MAPE: 40.96 %\n",
      "RMSE: 283654.47 $\n",
      "R2: 0.64\n"
     ]
    }
   ],
   "source": [
    "# Метрики при оптимальной глубине решающего дерева\n",
    "max_depth_best=15\n",
    "print('MAE: {:.2f} $'.format(mae_test_values[max_depths.index(max_depth_best)]))\n",
    "print('MAPE: {:.2f} %'.format(mape_test_values[max_depths.index(max_depth_best)]))\n",
    "print('RMSE: {:.2f} $'.format(rmse_test_values[max_depths.index(max_depth_best)]))\n",
    "print('R2: {:.2f}'.format(r2_test_values[max_depths.index(max_depth_best)]))"
   ]
  },
  {
   "cell_type": "code",
   "execution_count": 15,
   "metadata": {},
   "outputs": [
    {
     "name": "stdout",
     "output_type": "stream",
     "text": [
      "\n",
      "MAE на тренировочной выборке: 129366.08 $\n",
      "MAPE на тренировочной выборке: 37.82 %\n",
      "RMSE на тренировочной выборке: 232250.92 $\n",
      "r2 на тренировочной выборке: 0.77\n",
      "\n",
      "MAE на тестовой выборке: 148394.57 $\n",
      "MAPE на тестовой выборке: 40.85 %\n",
      "RMSE на тестовой выборке: 272860.24 $\n",
      "r2 на тестовой выборке: 0.67\n"
     ]
    }
   ],
   "source": [
    "# Создаем модель дерева решений с оптимальной глубиной решающего дерева\n",
    "tree_regressor = DecisionTreeRegressor(\n",
    "    max_depth = 15,\n",
    "    min_samples_leaf = 8,\n",
    "    random_state = 42)\n",
    "\n",
    "# Обучаем модель\n",
    "tree_regressor.fit(X_train, y_train)\n",
    "\n",
    "# Выполняем предсказание\n",
    "y_train_pred = tree_regressor.predict(X_train)\n",
    "y_test_pred = tree_regressor.predict(X_test)\n",
    "\n",
    "# Вычисляем метрики качества\n",
    "_ = metrics_calculation(y_train, y_train_pred, y_test, y_test_pred)"
   ]
  },
  {
   "cell_type": "markdown",
   "metadata": {},
   "source": [
    "Таким образом, использовав алгоритм решающего дерева с заданными параметрами, мы смогли улучшить значения всех метрик относительно алгоритмов линейной регресии как на тренировочной, так и на тестовой выборках."
   ]
  },
  {
   "cell_type": "markdown",
   "metadata": {},
   "source": [
    "**5. Случайный лес Random Forest**\n",
    "\n",
    "Случайный лес относится к ансамблевым моделям и является реализацией бэггинга, основанной на использовании в качестве базовой модели дерева решений. Оптимизацию гиперпараметров модели случайного леса будем производить с помощью метода RandomizedSearchCV.\n",
    "Данный метод позволяет выбирать n случайных комбинаций из заданных нами последовательностей. Как следствие,  перебираются не все возможные комбинации, а только часть из них, тем самым обеспечивая более эффективную и быструю работу."
   ]
  },
  {
   "cell_type": "code",
   "execution_count": 16,
   "metadata": {},
   "outputs": [
    {
     "name": "stdout",
     "output_type": "stream",
     "text": [
      "\n",
      "MAE на тренировочной выборке: 83259.75 $\n",
      "MAPE на тренировочной выборке: 20.98 %\n",
      "RMSE на тренировочной выборке: 177329.22 $\n",
      "r2 на тренировочной выборке: 0.86\n",
      "\n",
      "MAE на тестовой выборке: 116548.07 $\n",
      "MAPE на тестовой выборке: 29.49 %\n",
      "RMSE на тестовой выборке: 234038.52 $\n",
      "r2 на тестовой выборке: 0.76\n"
     ]
    }
   ],
   "source": [
    "# Создаем сетку гиперпараметров\n",
    "param_grid = {\n",
    "    'n_estimators': [80, 200, 30],\n",
    "    'max_depth': list(np.linspace(20, 40, 10, dtype=int)),\n",
    "    'min_samples_leaf': [5, 10, 15]\n",
    "    }\n",
    "\n",
    "# Создаем модель RandomizedSearchCV на основе RandomForestRegressor\n",
    "random_search_forest = RandomizedSearchCV(\n",
    "    estimator = RandomForestRegressor(random_state = 42),\n",
    "    param_distributions = param_grid,\n",
    "    cv=5,\n",
    "    n_iter = 10, \n",
    "    n_jobs = -1\n",
    ")\n",
    "\n",
    "# Обучаем модель\n",
    "random_search_forest.fit(X_train, y_train)\n",
    "\n",
    "# Выполняем предсказание\n",
    "y_train_pred = random_search_forest.predict(X_train)\n",
    "y_test_pred = random_search_forest.predict(X_test)\n",
    "\n",
    "# Вычисляем метрики качества\n",
    "_ = metrics_calculation(y_train, y_train_pred, y_test, y_test_pred)"
   ]
  },
  {
   "cell_type": "code",
   "execution_count": 17,
   "metadata": {},
   "outputs": [
    {
     "name": "stdout",
     "output_type": "stream",
     "text": [
      "Наилучшие значения гиперпараметров: {'n_estimators': 200, 'min_samples_leaf': 5, 'max_depth': 31}\n"
     ]
    }
   ],
   "source": [
    "# Выводим оптимальные значения гиперпараметров\n",
    "print('Наилучшие значения гиперпараметров:', random_search_forest.best_params_)"
   ]
  },
  {
   "cell_type": "markdown",
   "metadata": {},
   "source": [
    "Оптимизация гиперпараметров RandomizedSearchCV для алгоритма случайного леса позволила нам добиться значительного улучшения всех метрик качества модели. Довольно высокие результаты объясняются сложностью модели, требуя при этом бОльших временных затрат и вычислительных мощностей."
   ]
  },
  {
   "cell_type": "markdown",
   "metadata": {},
   "source": [
    "**6. Градиентный бустинг Gradient Boosting**\n",
    "\n",
    "Бустинг относится к продвинутым методам машинного обучения и представляет собой алгоритм построения ансамбля, основанный на последовательном построении слабых моделей, причём каждая новая модель пытается уменьшить ошибку предыдущей. После того как все модели обучены, они объединяются в композицию.\n",
    "\n",
    "Градиентный бустинг строит композицию из своих базовых моделей, подбирая их оптимальным образом на основе принципа градиентных методов оптимизации. Каждый последующий алгоритм улучшает предыдущий, при этом используя информацию о функции потерь для построения нового алгоритма. Такой подход позволяет значительно ускорить процесс последовательного построения ансамбля и добиться лучшего качества за счет меньшего количества моделей в ансамбле.\n",
    "\n",
    "Для нашей задачи регресии мы будем использовать градиентный бустинг над деревьями решений, реализованный в классе GradientBoostingRegressor. Используем такое же количество базовых моделей (деревьев в бустинге), как и в предыдущем алгоритме, и сравним результаты."
   ]
  },
  {
   "cell_type": "code",
   "execution_count": 18,
   "metadata": {},
   "outputs": [
    {
     "name": "stdout",
     "output_type": "stream",
     "text": [
      "\n",
      "MAE на тренировочной выборке: 59020.00 $\n",
      "MAPE на тренировочной выборке: 17.37 %\n",
      "RMSE на тренировочной выборке: 123572.12 $\n",
      "r2 на тренировочной выборке: 0.93\n",
      "\n",
      "MAE на тестовой выборке: 105483.29 $\n",
      "MAPE на тестовой выборке: 26.63 %\n",
      "RMSE на тестовой выборке: 214953.12 $\n",
      "r2 на тестовой выборке: 0.80\n"
     ]
    }
   ],
   "source": [
    "# Обучаем модель градиентного бустинга\n",
    "gb_regressor = GradientBoostingRegressor(\n",
    "    learning_rate = 0.1,\n",
    "    n_estimators = 200,\n",
    "    max_depth = 15,\n",
    "    min_samples_leaf = 10,\n",
    "    random_state = 42\n",
    ")\n",
    "gb_regressor.fit(X_train, y_train)\n",
    "\n",
    "# Выполняем предсказание\n",
    "y_train_pred = gb_regressor.predict(X_train)\n",
    "y_test_pred = gb_regressor.predict(X_test)\n",
    "\n",
    "# Выводим результаты\n",
    "_ = metrics_calculation(y_train, y_train_pred, y_test, y_test_pred)"
   ]
  },
  {
   "cell_type": "markdown",
   "metadata": {},
   "source": [
    "Модель градиентного бустинга показала результаты лучше, чем модель случайного леса, при том же количестве деревьев. Высокий показатель r2 на тренировочной выборке говорит о склонности модели к переобучению. Всегда важно помнить, что зависимость качества ансамбля от количества моделей является нелинейной. При большом количестве моделей градиентный бустинг может уходить в переобучение, тем самым ухудшая метрики на тестовой выборке."
   ]
  },
  {
   "cell_type": "markdown",
   "metadata": {},
   "source": [
    "Сведем результаты нашего моделирования в таблицы и сравним между собой и с baseline-решением."
   ]
  },
  {
   "cell_type": "code",
   "execution_count": 19,
   "metadata": {},
   "outputs": [
    {
     "data": {
      "text/html": [
       "<div>\n",
       "<style scoped>\n",
       "    .dataframe tbody tr th:only-of-type {\n",
       "        vertical-align: middle;\n",
       "    }\n",
       "\n",
       "    .dataframe tbody tr th {\n",
       "        vertical-align: top;\n",
       "    }\n",
       "\n",
       "    .dataframe thead th {\n",
       "        text-align: right;\n",
       "    }\n",
       "</style>\n",
       "<table border=\"1\" class=\"dataframe\">\n",
       "  <thead>\n",
       "    <tr style=\"text-align: right;\">\n",
       "      <th></th>\n",
       "      <th>Metric Baseline</th>\n",
       "      <th>MAE, $</th>\n",
       "      <th>MAPE, %</th>\n",
       "      <th>RMSE, $</th>\n",
       "      <th>r2</th>\n",
       "    </tr>\n",
       "  </thead>\n",
       "  <tbody>\n",
       "    <tr>\n",
       "      <th>0</th>\n",
       "      <td>LinearRegression</td>\n",
       "      <td>575064.84</td>\n",
       "      <td>2506.07</td>\n",
       "      <td>1707794.48</td>\n",
       "      <td>0.16</td>\n",
       "    </tr>\n",
       "    <tr>\n",
       "      <th>1</th>\n",
       "      <td>Gradient Boosting</td>\n",
       "      <td>373626.53</td>\n",
       "      <td>1567.36</td>\n",
       "      <td>1417970.55</td>\n",
       "      <td>0.42</td>\n",
       "    </tr>\n",
       "  </tbody>\n",
       "</table>\n",
       "</div>"
      ],
      "text/plain": [
       "     Metric Baseline     MAE, $  MAPE, %     RMSE, $    r2\n",
       "0   LinearRegression  575064.84  2506.07  1707794.48  0.16\n",
       "1  Gradient Boosting  373626.53  1567.36  1417970.55  0.42"
      ]
     },
     "execution_count": 19,
     "metadata": {},
     "output_type": "execute_result"
    }
   ],
   "source": [
    "metric_pivot = {'Metric Baseline': ['LinearRegression', 'Gradient Boosting'],\n",
    "        'MAE, $': [575064.84, 373626.53],\n",
    "        'MAPE, %': [2506.07, 1567.36],\n",
    "        'RMSE, $': [1707794.48, 1417970.55],\n",
    "        'r2': [0.16, 0.42]}\n",
    "\n",
    "df_metrics = pd.DataFrame(metric_pivot)\n",
    "df_metrics"
   ]
  },
  {
   "cell_type": "code",
   "execution_count": 20,
   "metadata": {},
   "outputs": [
    {
     "data": {
      "text/html": [
       "<div>\n",
       "<style scoped>\n",
       "    .dataframe tbody tr th:only-of-type {\n",
       "        vertical-align: middle;\n",
       "    }\n",
       "\n",
       "    .dataframe tbody tr th {\n",
       "        vertical-align: top;\n",
       "    }\n",
       "\n",
       "    .dataframe thead th {\n",
       "        text-align: right;\n",
       "    }\n",
       "</style>\n",
       "<table border=\"1\" class=\"dataframe\">\n",
       "  <thead>\n",
       "    <tr style=\"text-align: right;\">\n",
       "      <th></th>\n",
       "      <th>Metric Model</th>\n",
       "      <th>MAE, $</th>\n",
       "      <th>MAPE, %</th>\n",
       "      <th>RMSE, $</th>\n",
       "      <th>r2</th>\n",
       "    </tr>\n",
       "  </thead>\n",
       "  <tbody>\n",
       "    <tr>\n",
       "      <th>0</th>\n",
       "      <td>LinearRegression</td>\n",
       "      <td>251574.87</td>\n",
       "      <td>83.91</td>\n",
       "      <td>402193.85</td>\n",
       "      <td>0.28</td>\n",
       "    </tr>\n",
       "    <tr>\n",
       "      <th>1</th>\n",
       "      <td>Polynomial Regression</td>\n",
       "      <td>201852.69</td>\n",
       "      <td>62.00</td>\n",
       "      <td>329503.31</td>\n",
       "      <td>0.52</td>\n",
       "    </tr>\n",
       "    <tr>\n",
       "      <th>2</th>\n",
       "      <td>Decision Tree</td>\n",
       "      <td>148394.57</td>\n",
       "      <td>40.85</td>\n",
       "      <td>272860.24</td>\n",
       "      <td>0.67</td>\n",
       "    </tr>\n",
       "    <tr>\n",
       "      <th>3</th>\n",
       "      <td>Random Forest</td>\n",
       "      <td>117658.58</td>\n",
       "      <td>30.24</td>\n",
       "      <td>234444.65</td>\n",
       "      <td>0.76</td>\n",
       "    </tr>\n",
       "    <tr>\n",
       "      <th>4</th>\n",
       "      <td>Gradient Boosting</td>\n",
       "      <td>105483.29</td>\n",
       "      <td>26.63</td>\n",
       "      <td>214953.12</td>\n",
       "      <td>0.80</td>\n",
       "    </tr>\n",
       "  </tbody>\n",
       "</table>\n",
       "</div>"
      ],
      "text/plain": [
       "            Metric Model     MAE, $  MAPE, %    RMSE, $    r2\n",
       "0       LinearRegression  251574.87    83.91  402193.85  0.28\n",
       "1  Polynomial Regression  201852.69    62.00  329503.31  0.52\n",
       "2          Decision Tree  148394.57    40.85  272860.24  0.67\n",
       "3          Random Forest  117658.58    30.24  234444.65  0.76\n",
       "4      Gradient Boosting  105483.29    26.63  214953.12  0.80"
      ]
     },
     "execution_count": 20,
     "metadata": {},
     "output_type": "execute_result"
    }
   ],
   "source": [
    "metric_pivot = {'Metric Model': ['LinearRegression', 'Polynomial Regression', 'Decision Tree', 'Random Forest', 'Gradient Boosting'],\n",
    "        'MAE, $': [251574.87, 201852.69, 148394.57, 117658.58, 105483.29],\n",
    "        'MAPE, %': [83.91, 62.00, 40.85, 30.24, 26.63],\n",
    "        'RMSE, $': [402193.85, 329503.31, 272860.24, 234444.65, 214953.12],\n",
    "        'r2': [0.28, 0.52, 0.67, 0.76, 0.80]}\n",
    "\n",
    "df_metrics = pd.DataFrame(metric_pivot)\n",
    "df_metrics"
   ]
  },
  {
   "cell_type": "markdown",
   "metadata": {},
   "source": [
    "Результаты baseline-решения значительно улучшены, в этом нам помогла обработка данных на этапе EDA и подбор гиперпараметров на этапе моделирования.\n",
    "\n",
    "Исходя из полученных результатов можно сделать вывод, что применение более продвинутых и гибких моделей приводит к повышению значений метрик качества и, как следствие, более точному прогнозированию.\n",
    "\n",
    "Самый выской результат показала модель градиентного бустинга, именно она будет использована для внедрения в продакшен."
   ]
  },
  {
   "cell_type": "markdown",
   "metadata": {},
   "source": [
    "**Подготовка модели к продакшену**\n",
    "\n",
    "Проведем сериализацию модели и сохранение в файл с помощью библиотеки pickle, восстановим обученную модель из файла и убедимся, что методы и результаты предсказаний обученной модели и модели, загруженной из файла, совпадают. Далее подадим в десериализованную модель тестовый датасет и проверим результаты моделирования."
   ]
  },
  {
   "cell_type": "code",
   "execution_count": 21,
   "metadata": {},
   "outputs": [],
   "source": [
    "# Производим сериализацию модели и сохраняем ее в файл формата pkl\n",
    "with open('web/app/models/model.pkl', 'wb') as output:\n",
    "    pickle.dump(gb_regressor, output)"
   ]
  },
  {
   "cell_type": "code",
   "execution_count": 22,
   "metadata": {},
   "outputs": [],
   "source": [
    "# Производим десериализацию и извлекаем модель из файла формата pkl\n",
    "with open('web/app/models/model.pkl', 'rb') as f:\n",
    "    loaded_model = pickle.load(f)"
   ]
  },
  {
   "cell_type": "code",
   "execution_count": 23,
   "metadata": {},
   "outputs": [
    {
     "name": "stdout",
     "output_type": "stream",
     "text": [
      "True\n",
      "True\n"
     ]
    }
   ],
   "source": [
    "# Проверяем, что все элементы массивов предсказаний совпадают между собой\n",
    "print(all(gb_regressor.predict(X_train) == loaded_model.predict(X_train)))\n",
    "print(all(gb_regressor.predict(X_test) == loaded_model.predict(X_test)))"
   ]
  },
  {
   "cell_type": "code",
   "execution_count": 24,
   "metadata": {},
   "outputs": [
    {
     "data": {
      "text/html": [
       "<div>\n",
       "<style scoped>\n",
       "    .dataframe tbody tr th:only-of-type {\n",
       "        vertical-align: middle;\n",
       "    }\n",
       "\n",
       "    .dataframe tbody tr th {\n",
       "        vertical-align: top;\n",
       "    }\n",
       "\n",
       "    .dataframe thead th {\n",
       "        text-align: right;\n",
       "    }\n",
       "</style>\n",
       "<table border=\"1\" class=\"dataframe\">\n",
       "  <thead>\n",
       "    <tr style=\"text-align: right;\">\n",
       "      <th></th>\n",
       "      <th>baths</th>\n",
       "      <th>sqft</th>\n",
       "      <th>beds</th>\n",
       "      <th>stories</th>\n",
       "      <th>private_pool_bool</th>\n",
       "      <th>fireplace_bool</th>\n",
       "      <th>last_renovation_year</th>\n",
       "      <th>heating_bool</th>\n",
       "      <th>cooling_bool</th>\n",
       "      <th>parking_bool</th>\n",
       "      <th>...</th>\n",
       "      <th>status_Pending</th>\n",
       "      <th>propertyType_Condo</th>\n",
       "      <th>propertyType_Land</th>\n",
       "      <th>propertyType_Multi Family Home</th>\n",
       "      <th>propertyType_Other</th>\n",
       "      <th>propertyType_Single Family Home</th>\n",
       "      <th>propertyType_Townhouse</th>\n",
       "      <th>propertyType_Traditional</th>\n",
       "      <th>state_label</th>\n",
       "      <th>zipcode_label</th>\n",
       "    </tr>\n",
       "  </thead>\n",
       "  <tbody>\n",
       "    <tr>\n",
       "      <th>0</th>\n",
       "      <td>3</td>\n",
       "      <td>2000</td>\n",
       "      <td>0</td>\n",
       "      <td>0</td>\n",
       "      <td>0</td>\n",
       "      <td>0</td>\n",
       "      <td>1900</td>\n",
       "      <td>0</td>\n",
       "      <td>0</td>\n",
       "      <td>0</td>\n",
       "      <td>...</td>\n",
       "      <td>0</td>\n",
       "      <td>0</td>\n",
       "      <td>0</td>\n",
       "      <td>0</td>\n",
       "      <td>0</td>\n",
       "      <td>0</td>\n",
       "      <td>0</td>\n",
       "      <td>0</td>\n",
       "      <td>0</td>\n",
       "      <td>238</td>\n",
       "    </tr>\n",
       "    <tr>\n",
       "      <th>1</th>\n",
       "      <td>5</td>\n",
       "      <td>5000</td>\n",
       "      <td>4</td>\n",
       "      <td>6</td>\n",
       "      <td>1</td>\n",
       "      <td>1</td>\n",
       "      <td>2022</td>\n",
       "      <td>1</td>\n",
       "      <td>1</td>\n",
       "      <td>1</td>\n",
       "      <td>...</td>\n",
       "      <td>1</td>\n",
       "      <td>0</td>\n",
       "      <td>1</td>\n",
       "      <td>0</td>\n",
       "      <td>0</td>\n",
       "      <td>1</td>\n",
       "      <td>1</td>\n",
       "      <td>1</td>\n",
       "      <td>9</td>\n",
       "      <td>154</td>\n",
       "    </tr>\n",
       "    <tr>\n",
       "      <th>2</th>\n",
       "      <td>1</td>\n",
       "      <td>1000</td>\n",
       "      <td>2</td>\n",
       "      <td>3</td>\n",
       "      <td>1</td>\n",
       "      <td>0</td>\n",
       "      <td>1978</td>\n",
       "      <td>1</td>\n",
       "      <td>0</td>\n",
       "      <td>0</td>\n",
       "      <td>...</td>\n",
       "      <td>1</td>\n",
       "      <td>1</td>\n",
       "      <td>1</td>\n",
       "      <td>1</td>\n",
       "      <td>0</td>\n",
       "      <td>0</td>\n",
       "      <td>1</td>\n",
       "      <td>0</td>\n",
       "      <td>37</td>\n",
       "      <td>1022</td>\n",
       "    </tr>\n",
       "  </tbody>\n",
       "</table>\n",
       "<p>3 rows × 27 columns</p>\n",
       "</div>"
      ],
      "text/plain": [
       "   baths  sqft  beds  stories  private_pool_bool  fireplace_bool  \\\n",
       "0      3  2000     0        0                  0               0   \n",
       "1      5  5000     4        6                  1               1   \n",
       "2      1  1000     2        3                  1               0   \n",
       "\n",
       "   last_renovation_year  heating_bool  cooling_bool  parking_bool  ...  \\\n",
       "0                  1900             0             0             0  ...   \n",
       "1                  2022             1             1             1  ...   \n",
       "2                  1978             1             0             0  ...   \n",
       "\n",
       "   status_Pending  propertyType_Condo  propertyType_Land  \\\n",
       "0               0                   0                  0   \n",
       "1               1                   0                  1   \n",
       "2               1                   1                  1   \n",
       "\n",
       "   propertyType_Multi Family Home  propertyType_Other  \\\n",
       "0                               0                   0   \n",
       "1                               0                   0   \n",
       "2                               1                   0   \n",
       "\n",
       "   propertyType_Single Family Home  propertyType_Townhouse  \\\n",
       "0                                0                       0   \n",
       "1                                1                       1   \n",
       "2                                0                       1   \n",
       "\n",
       "   propertyType_Traditional  state_label  zipcode_label  \n",
       "0                         0            0            238  \n",
       "1                         1            9            154  \n",
       "2                         0           37           1022  \n",
       "\n",
       "[3 rows x 27 columns]"
      ]
     },
     "execution_count": 24,
     "metadata": {},
     "output_type": "execute_result"
    }
   ],
   "source": [
    "# Создадим тестовый датасет\n",
    "data = [\n",
    "    (3, 2000, 0, 0, 0, 0, 1900, 0, 0, 0, 5.3, 5.2, 1, 0, 0, 0, 0, 0, 0, 0, 0, 0, 0, 0, 0, 0, 238),\n",
    "    (5, 5000, 4, 6, 1, 1, 2022, 1, 1, 1, 9.5, 1.8, 1, 1, 0, 1, 0, 1, 0, 1, 0, 0, 1, 1, 1, 9, 154),\n",
    "    (1, 1000, 2, 3, 1, 0, 1978, 1, 0, 0, 3.1, 10.2, 1, 0, 1, 0, 1, 1, 1, 1, 1, 0, 0, 1, 0, 37, 1022)\n",
    "]\n",
    "\n",
    "columns = ['baths', 'sqft', 'beds', 'stories', 'private_pool_bool', 'fireplace_bool',\n",
    "           'last_renovation_year', 'heating_bool', 'cooling_bool', 'parking_bool',\n",
    "           'school_rating', 'school_distance',\n",
    "           'status_Active', 'status_For Sale', 'status_Foreclosure',\n",
    "           'status_New construction', 'status_Other', 'status_Pending',\n",
    "           'propertyType_Condo', 'propertyType_Land', 'propertyType_Multi Family Home',\n",
    "           'propertyType_Other', 'propertyType_Single Family Home', 'propertyType_Townhouse',\n",
    "           'propertyType_Traditional', 'state_label', 'zipcode_label']\n",
    "\n",
    "df_test = pd.DataFrame(data, columns=columns)\n",
    "\n",
    "df_test.head()"
   ]
  },
  {
   "cell_type": "code",
   "execution_count": 25,
   "metadata": {},
   "outputs": [
    {
     "name": "stdout",
     "output_type": "stream",
     "text": [
      "Прогноз стоимости объекта недвижимости: 2319227\n",
      "Прогноз стоимости объекта недвижимости: 2675413\n",
      "Прогноз стоимости объекта недвижимости: 1852651\n"
     ]
    }
   ],
   "source": [
    "# Выполняем предсказание с помощью загруженной модели\n",
    "prediction = loaded_model.predict(df_test)\n",
    "\n",
    "# Выводим результат на экран для проверки при запуске на сервере\n",
    "for i in range(prediction.shape[0]):\n",
    "    print('Прогноз стоимости объекта недвижимости:', round(prediction[i]))"
   ]
  },
  {
   "cell_type": "markdown",
   "metadata": {},
   "source": [
    "Как видно, исходная и восстановленная из файла модели дают одинаковые предсказания. На основании тестового датасета загруженная модель выдает прогноз стоимости объекта недвижимости. Это значит, что теперь можно импортировать нашу обученную модель в любое Python-приложение и пользоваться им, минуя этап обучения и все этапы, предшествующие ему."
   ]
  },
  {
   "cell_type": "markdown",
   "metadata": {},
   "source": [
    "Для деплоя модели при помощи фреймворка Flask был написан веб-сервис web/app/server.py, который позволяет делать запросы к нашей модели и в ответ на запрос получать ответы — предсказания модели. При помощи Docker был создан образ веб-сервиса sf_diplom_image и произведена контейнеризация. Запуск контейнера производится командой:\n",
    "\n",
    "**docker run -it --rm --name=sf_diplom_container -p=5000:5000 sf_diplom_image**\n",
    "\n",
    "Проверка работы веб-сервиса производится запуском клиентского приложения web/app/test/client.py.\n",
    "\n",
    "В результате выполнения скрипта возвращается код 200 и выводится сообщение с предсказанием модели. Таким образом, Flask-приложение запущено в контейнере, и к нему можно делать запросы."
   ]
  },
  {
   "cell_type": "markdown",
   "metadata": {},
   "source": [
    "**Работа над проектом завершена. Поставленная задача разработки веб-сервиса предсказания стоимости недвижимости на основе данных об объекте успешно выполнена.**"
   ]
  }
 ],
 "metadata": {
  "kernelspec": {
   "display_name": "Python 3",
   "language": "python",
   "name": "python3"
  },
  "language_info": {
   "codemirror_mode": {
    "name": "ipython",
    "version": 3
   },
   "file_extension": ".py",
   "mimetype": "text/x-python",
   "name": "python",
   "nbconvert_exporter": "python",
   "pygments_lexer": "ipython3",
   "version": "3.11.3"
  }
 },
 "nbformat": 4,
 "nbformat_minor": 2
}
